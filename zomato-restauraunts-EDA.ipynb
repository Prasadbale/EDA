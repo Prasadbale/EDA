{
 "cells": [
  {
   "cell_type": "code",
   "execution_count": 1,
   "id": "3a93c5c8",
   "metadata": {
    "_cell_guid": "b1076dfc-b9ad-4769-8c92-a6c4dae69d19",
    "_uuid": "8f2839f25d086af736a60e9eeb907d3b93b6e0e5",
    "execution": {
     "iopub.execute_input": "2022-10-19T08:56:45.162932Z",
     "iopub.status.busy": "2022-10-19T08:56:45.161864Z",
     "iopub.status.idle": "2022-10-19T08:56:45.185826Z",
     "shell.execute_reply": "2022-10-19T08:56:45.184556Z"
    },
    "papermill": {
     "duration": 0.040264,
     "end_time": "2022-10-19T08:56:45.189734",
     "exception": false,
     "start_time": "2022-10-19T08:56:45.149470",
     "status": "completed"
    },
    "tags": []
   },
   "outputs": [
    {
     "name": "stdout",
     "output_type": "stream",
     "text": [
      "/kaggle/input/zomato-restaurants-data/zomato.csv\n",
      "/kaggle/input/zomato-restaurants-data/file5.json\n",
      "/kaggle/input/zomato-restaurants-data/file1.json\n",
      "/kaggle/input/zomato-restaurants-data/file2.json\n",
      "/kaggle/input/zomato-restaurants-data/file4.json\n",
      "/kaggle/input/zomato-restaurants-data/file3.json\n",
      "/kaggle/input/zomato-restaurants-data/Country-Code.xlsx\n"
     ]
    }
   ],
   "source": [
    "# This Python 3 environment comes with many helpful analytics libraries installed\n",
    "# It is defined by the kaggle/python Docker image: https://github.com/kaggle/docker-python\n",
    "# For example, here's several helpful packages to load\n",
    "\n",
    "import numpy as np # linear algebra\n",
    "import pandas as pd # data processing, CSV file I/O (e.g. pd.read_csv)\n",
    "\n",
    "# Input data files are available in the read-only \"../input/\" directory\n",
    "# For example, running this (by clicking run or pressing Shift+Enter) will list all files under the input directory\n",
    "\n",
    "import os\n",
    "for dirname, _, filenames in os.walk('/kaggle/input'):\n",
    "    for filename in filenames:\n",
    "        print(os.path.join(dirname, filename))\n",
    "\n",
    "# You can write up to 20GB to the current directory (/kaggle/working/) that gets preserved as output when you create a version using \"Save & Run All\" \n",
    "# You can also write temporary files to /kaggle/temp/, but they won't be saved outside of the current session"
   ]
  },
  {
   "cell_type": "code",
   "execution_count": 2,
   "id": "e0bda6e4",
   "metadata": {
    "execution": {
     "iopub.execute_input": "2022-10-19T08:56:45.210882Z",
     "iopub.status.busy": "2022-10-19T08:56:45.210018Z",
     "iopub.status.idle": "2022-10-19T08:56:46.251007Z",
     "shell.execute_reply": "2022-10-19T08:56:46.249808Z"
    },
    "papermill": {
     "duration": 1.055329,
     "end_time": "2022-10-19T08:56:46.254021",
     "exception": false,
     "start_time": "2022-10-19T08:56:45.198692",
     "status": "completed"
    },
    "tags": []
   },
   "outputs": [],
   "source": [
    "# importing necessary libraries\n",
    "\n",
    "import numpy as np\n",
    "import pandas as pd\n",
    "import matplotlib.pyplot as plt\n",
    "import seaborn as sns\n",
    "%matplotlib inline"
   ]
  },
  {
   "cell_type": "code",
   "execution_count": 3,
   "id": "9fee8c24",
   "metadata": {
    "execution": {
     "iopub.execute_input": "2022-10-19T08:56:46.272695Z",
     "iopub.status.busy": "2022-10-19T08:56:46.271852Z",
     "iopub.status.idle": "2022-10-19T08:56:46.769459Z",
     "shell.execute_reply": "2022-10-19T08:56:46.768314Z"
    },
    "papermill": {
     "duration": 0.510175,
     "end_time": "2022-10-19T08:56:46.772350",
     "exception": false,
     "start_time": "2022-10-19T08:56:46.262175",
     "status": "completed"
    },
    "tags": []
   },
   "outputs": [],
   "source": [
    "# importing csv file using pandas\n",
    "df0 = pd.read_csv('/kaggle/input/zomato-restaurants-data/zomato.csv',encoding='latin-1') \n",
    "df1 = pd.read_excel('/kaggle/input/zomato-restaurants-data/Country-Code.xlsx')"
   ]
  },
  {
   "cell_type": "code",
   "execution_count": 4,
   "id": "33e8a55a",
   "metadata": {
    "execution": {
     "iopub.execute_input": "2022-10-19T08:56:46.790008Z",
     "iopub.status.busy": "2022-10-19T08:56:46.789534Z",
     "iopub.status.idle": "2022-10-19T08:56:46.794995Z",
     "shell.execute_reply": "2022-10-19T08:56:46.793924Z"
    },
    "papermill": {
     "duration": 0.0171,
     "end_time": "2022-10-19T08:56:46.797314",
     "exception": false,
     "start_time": "2022-10-19T08:56:46.780214",
     "status": "completed"
    },
    "tags": []
   },
   "outputs": [],
   "source": [
    "# setting custom pandas custom options\n",
    "\n",
    "pd.set_option('display.max_columns',50)\n",
    "sns.set_style('whitegrid')"
   ]
  },
  {
   "cell_type": "code",
   "execution_count": 5,
   "id": "8fc58dba",
   "metadata": {
    "execution": {
     "iopub.execute_input": "2022-10-19T08:56:46.815296Z",
     "iopub.status.busy": "2022-10-19T08:56:46.814301Z",
     "iopub.status.idle": "2022-10-19T08:56:46.845989Z",
     "shell.execute_reply": "2022-10-19T08:56:46.844768Z"
    },
    "papermill": {
     "duration": 0.043493,
     "end_time": "2022-10-19T08:56:46.848702",
     "exception": false,
     "start_time": "2022-10-19T08:56:46.805209",
     "status": "completed"
    },
    "tags": []
   },
   "outputs": [
    {
     "data": {
      "text/html": [
       "<div>\n",
       "<style scoped>\n",
       "    .dataframe tbody tr th:only-of-type {\n",
       "        vertical-align: middle;\n",
       "    }\n",
       "\n",
       "    .dataframe tbody tr th {\n",
       "        vertical-align: top;\n",
       "    }\n",
       "\n",
       "    .dataframe thead th {\n",
       "        text-align: right;\n",
       "    }\n",
       "</style>\n",
       "<table border=\"1\" class=\"dataframe\">\n",
       "  <thead>\n",
       "    <tr style=\"text-align: right;\">\n",
       "      <th></th>\n",
       "      <th>Restaurant ID</th>\n",
       "      <th>Restaurant Name</th>\n",
       "      <th>Country Code</th>\n",
       "      <th>City</th>\n",
       "      <th>Address</th>\n",
       "      <th>Locality</th>\n",
       "      <th>Locality Verbose</th>\n",
       "      <th>Longitude</th>\n",
       "      <th>Latitude</th>\n",
       "      <th>Cuisines</th>\n",
       "      <th>Average Cost for two</th>\n",
       "      <th>Currency</th>\n",
       "      <th>Has Table booking</th>\n",
       "      <th>Has Online delivery</th>\n",
       "      <th>Is delivering now</th>\n",
       "      <th>Switch to order menu</th>\n",
       "      <th>Price range</th>\n",
       "      <th>Aggregate rating</th>\n",
       "      <th>Rating color</th>\n",
       "      <th>Rating text</th>\n",
       "      <th>Votes</th>\n",
       "    </tr>\n",
       "  </thead>\n",
       "  <tbody>\n",
       "    <tr>\n",
       "      <th>0</th>\n",
       "      <td>6317637</td>\n",
       "      <td>Le Petit Souffle</td>\n",
       "      <td>162</td>\n",
       "      <td>Makati City</td>\n",
       "      <td>Third Floor, Century City Mall, Kalayaan Avenu...</td>\n",
       "      <td>Century City Mall, Poblacion, Makati City</td>\n",
       "      <td>Century City Mall, Poblacion, Makati City, Mak...</td>\n",
       "      <td>121.027535</td>\n",
       "      <td>14.565443</td>\n",
       "      <td>French, Japanese, Desserts</td>\n",
       "      <td>1100</td>\n",
       "      <td>Botswana Pula(P)</td>\n",
       "      <td>Yes</td>\n",
       "      <td>No</td>\n",
       "      <td>No</td>\n",
       "      <td>No</td>\n",
       "      <td>3</td>\n",
       "      <td>4.8</td>\n",
       "      <td>Dark Green</td>\n",
       "      <td>Excellent</td>\n",
       "      <td>314</td>\n",
       "    </tr>\n",
       "    <tr>\n",
       "      <th>1</th>\n",
       "      <td>6304287</td>\n",
       "      <td>Izakaya Kikufuji</td>\n",
       "      <td>162</td>\n",
       "      <td>Makati City</td>\n",
       "      <td>Little Tokyo, 2277 Chino Roces Avenue, Legaspi...</td>\n",
       "      <td>Little Tokyo, Legaspi Village, Makati City</td>\n",
       "      <td>Little Tokyo, Legaspi Village, Makati City, Ma...</td>\n",
       "      <td>121.014101</td>\n",
       "      <td>14.553708</td>\n",
       "      <td>Japanese</td>\n",
       "      <td>1200</td>\n",
       "      <td>Botswana Pula(P)</td>\n",
       "      <td>Yes</td>\n",
       "      <td>No</td>\n",
       "      <td>No</td>\n",
       "      <td>No</td>\n",
       "      <td>3</td>\n",
       "      <td>4.5</td>\n",
       "      <td>Dark Green</td>\n",
       "      <td>Excellent</td>\n",
       "      <td>591</td>\n",
       "    </tr>\n",
       "    <tr>\n",
       "      <th>2</th>\n",
       "      <td>6300002</td>\n",
       "      <td>Heat - Edsa Shangri-La</td>\n",
       "      <td>162</td>\n",
       "      <td>Mandaluyong City</td>\n",
       "      <td>Edsa Shangri-La, 1 Garden Way, Ortigas, Mandal...</td>\n",
       "      <td>Edsa Shangri-La, Ortigas, Mandaluyong City</td>\n",
       "      <td>Edsa Shangri-La, Ortigas, Mandaluyong City, Ma...</td>\n",
       "      <td>121.056831</td>\n",
       "      <td>14.581404</td>\n",
       "      <td>Seafood, Asian, Filipino, Indian</td>\n",
       "      <td>4000</td>\n",
       "      <td>Botswana Pula(P)</td>\n",
       "      <td>Yes</td>\n",
       "      <td>No</td>\n",
       "      <td>No</td>\n",
       "      <td>No</td>\n",
       "      <td>4</td>\n",
       "      <td>4.4</td>\n",
       "      <td>Green</td>\n",
       "      <td>Very Good</td>\n",
       "      <td>270</td>\n",
       "    </tr>\n",
       "    <tr>\n",
       "      <th>3</th>\n",
       "      <td>6318506</td>\n",
       "      <td>Ooma</td>\n",
       "      <td>162</td>\n",
       "      <td>Mandaluyong City</td>\n",
       "      <td>Third Floor, Mega Fashion Hall, SM Megamall, O...</td>\n",
       "      <td>SM Megamall, Ortigas, Mandaluyong City</td>\n",
       "      <td>SM Megamall, Ortigas, Mandaluyong City, Mandal...</td>\n",
       "      <td>121.056475</td>\n",
       "      <td>14.585318</td>\n",
       "      <td>Japanese, Sushi</td>\n",
       "      <td>1500</td>\n",
       "      <td>Botswana Pula(P)</td>\n",
       "      <td>No</td>\n",
       "      <td>No</td>\n",
       "      <td>No</td>\n",
       "      <td>No</td>\n",
       "      <td>4</td>\n",
       "      <td>4.9</td>\n",
       "      <td>Dark Green</td>\n",
       "      <td>Excellent</td>\n",
       "      <td>365</td>\n",
       "    </tr>\n",
       "    <tr>\n",
       "      <th>4</th>\n",
       "      <td>6314302</td>\n",
       "      <td>Sambo Kojin</td>\n",
       "      <td>162</td>\n",
       "      <td>Mandaluyong City</td>\n",
       "      <td>Third Floor, Mega Atrium, SM Megamall, Ortigas...</td>\n",
       "      <td>SM Megamall, Ortigas, Mandaluyong City</td>\n",
       "      <td>SM Megamall, Ortigas, Mandaluyong City, Mandal...</td>\n",
       "      <td>121.057508</td>\n",
       "      <td>14.584450</td>\n",
       "      <td>Japanese, Korean</td>\n",
       "      <td>1500</td>\n",
       "      <td>Botswana Pula(P)</td>\n",
       "      <td>Yes</td>\n",
       "      <td>No</td>\n",
       "      <td>No</td>\n",
       "      <td>No</td>\n",
       "      <td>4</td>\n",
       "      <td>4.8</td>\n",
       "      <td>Dark Green</td>\n",
       "      <td>Excellent</td>\n",
       "      <td>229</td>\n",
       "    </tr>\n",
       "  </tbody>\n",
       "</table>\n",
       "</div>"
      ],
      "text/plain": [
       "   Restaurant ID         Restaurant Name  Country Code              City  \\\n",
       "0        6317637        Le Petit Souffle           162       Makati City   \n",
       "1        6304287        Izakaya Kikufuji           162       Makati City   \n",
       "2        6300002  Heat - Edsa Shangri-La           162  Mandaluyong City   \n",
       "3        6318506                    Ooma           162  Mandaluyong City   \n",
       "4        6314302             Sambo Kojin           162  Mandaluyong City   \n",
       "\n",
       "                                             Address  \\\n",
       "0  Third Floor, Century City Mall, Kalayaan Avenu...   \n",
       "1  Little Tokyo, 2277 Chino Roces Avenue, Legaspi...   \n",
       "2  Edsa Shangri-La, 1 Garden Way, Ortigas, Mandal...   \n",
       "3  Third Floor, Mega Fashion Hall, SM Megamall, O...   \n",
       "4  Third Floor, Mega Atrium, SM Megamall, Ortigas...   \n",
       "\n",
       "                                     Locality  \\\n",
       "0   Century City Mall, Poblacion, Makati City   \n",
       "1  Little Tokyo, Legaspi Village, Makati City   \n",
       "2  Edsa Shangri-La, Ortigas, Mandaluyong City   \n",
       "3      SM Megamall, Ortigas, Mandaluyong City   \n",
       "4      SM Megamall, Ortigas, Mandaluyong City   \n",
       "\n",
       "                                    Locality Verbose   Longitude   Latitude  \\\n",
       "0  Century City Mall, Poblacion, Makati City, Mak...  121.027535  14.565443   \n",
       "1  Little Tokyo, Legaspi Village, Makati City, Ma...  121.014101  14.553708   \n",
       "2  Edsa Shangri-La, Ortigas, Mandaluyong City, Ma...  121.056831  14.581404   \n",
       "3  SM Megamall, Ortigas, Mandaluyong City, Mandal...  121.056475  14.585318   \n",
       "4  SM Megamall, Ortigas, Mandaluyong City, Mandal...  121.057508  14.584450   \n",
       "\n",
       "                           Cuisines  Average Cost for two          Currency  \\\n",
       "0        French, Japanese, Desserts                  1100  Botswana Pula(P)   \n",
       "1                          Japanese                  1200  Botswana Pula(P)   \n",
       "2  Seafood, Asian, Filipino, Indian                  4000  Botswana Pula(P)   \n",
       "3                   Japanese, Sushi                  1500  Botswana Pula(P)   \n",
       "4                  Japanese, Korean                  1500  Botswana Pula(P)   \n",
       "\n",
       "  Has Table booking Has Online delivery Is delivering now  \\\n",
       "0               Yes                  No                No   \n",
       "1               Yes                  No                No   \n",
       "2               Yes                  No                No   \n",
       "3                No                  No                No   \n",
       "4               Yes                  No                No   \n",
       "\n",
       "  Switch to order menu  Price range  Aggregate rating Rating color  \\\n",
       "0                   No            3               4.8   Dark Green   \n",
       "1                   No            3               4.5   Dark Green   \n",
       "2                   No            4               4.4        Green   \n",
       "3                   No            4               4.9   Dark Green   \n",
       "4                   No            4               4.8   Dark Green   \n",
       "\n",
       "  Rating text  Votes  \n",
       "0   Excellent    314  \n",
       "1   Excellent    591  \n",
       "2   Very Good    270  \n",
       "3   Excellent    365  \n",
       "4   Excellent    229  "
      ]
     },
     "execution_count": 5,
     "metadata": {},
     "output_type": "execute_result"
    }
   ],
   "source": [
    "df0.head()"
   ]
  },
  {
   "cell_type": "code",
   "execution_count": 6,
   "id": "fbe1c3e4",
   "metadata": {
    "execution": {
     "iopub.execute_input": "2022-10-19T08:56:46.869640Z",
     "iopub.status.busy": "2022-10-19T08:56:46.868532Z",
     "iopub.status.idle": "2022-10-19T08:56:46.876142Z",
     "shell.execute_reply": "2022-10-19T08:56:46.874946Z"
    },
    "papermill": {
     "duration": 0.019879,
     "end_time": "2022-10-19T08:56:46.878599",
     "exception": false,
     "start_time": "2022-10-19T08:56:46.858720",
     "status": "completed"
    },
    "tags": []
   },
   "outputs": [
    {
     "data": {
      "text/plain": [
       "(9551, 21)"
      ]
     },
     "execution_count": 6,
     "metadata": {},
     "output_type": "execute_result"
    }
   ],
   "source": [
    "df0.shape"
   ]
  },
  {
   "cell_type": "code",
   "execution_count": 7,
   "id": "88e99f8e",
   "metadata": {
    "execution": {
     "iopub.execute_input": "2022-10-19T08:56:46.898181Z",
     "iopub.status.busy": "2022-10-19T08:56:46.897264Z",
     "iopub.status.idle": "2022-10-19T08:56:46.904903Z",
     "shell.execute_reply": "2022-10-19T08:56:46.903806Z"
    },
    "papermill": {
     "duration": 0.020176,
     "end_time": "2022-10-19T08:56:46.907468",
     "exception": false,
     "start_time": "2022-10-19T08:56:46.887292",
     "status": "completed"
    },
    "tags": []
   },
   "outputs": [
    {
     "data": {
      "text/plain": [
       "Index(['Restaurant ID', 'Restaurant Name', 'Country Code', 'City', 'Address',\n",
       "       'Locality', 'Locality Verbose', 'Longitude', 'Latitude', 'Cuisines',\n",
       "       'Average Cost for two', 'Currency', 'Has Table booking',\n",
       "       'Has Online delivery', 'Is delivering now', 'Switch to order menu',\n",
       "       'Price range', 'Aggregate rating', 'Rating color', 'Rating text',\n",
       "       'Votes'],\n",
       "      dtype='object')"
      ]
     },
     "execution_count": 7,
     "metadata": {},
     "output_type": "execute_result"
    }
   ],
   "source": [
    "df0.columns"
   ]
  },
  {
   "cell_type": "code",
   "execution_count": 8,
   "id": "b07a1df0",
   "metadata": {
    "execution": {
     "iopub.execute_input": "2022-10-19T08:56:46.927184Z",
     "iopub.status.busy": "2022-10-19T08:56:46.925920Z",
     "iopub.status.idle": "2022-10-19T08:56:46.937934Z",
     "shell.execute_reply": "2022-10-19T08:56:46.936691Z"
    },
    "papermill": {
     "duration": 0.024116,
     "end_time": "2022-10-19T08:56:46.940249",
     "exception": false,
     "start_time": "2022-10-19T08:56:46.916133",
     "status": "completed"
    },
    "tags": []
   },
   "outputs": [
    {
     "data": {
      "text/html": [
       "<div>\n",
       "<style scoped>\n",
       "    .dataframe tbody tr th:only-of-type {\n",
       "        vertical-align: middle;\n",
       "    }\n",
       "\n",
       "    .dataframe tbody tr th {\n",
       "        vertical-align: top;\n",
       "    }\n",
       "\n",
       "    .dataframe thead th {\n",
       "        text-align: right;\n",
       "    }\n",
       "</style>\n",
       "<table border=\"1\" class=\"dataframe\">\n",
       "  <thead>\n",
       "    <tr style=\"text-align: right;\">\n",
       "      <th></th>\n",
       "      <th>Country Code</th>\n",
       "      <th>Country</th>\n",
       "    </tr>\n",
       "  </thead>\n",
       "  <tbody>\n",
       "    <tr>\n",
       "      <th>0</th>\n",
       "      <td>1</td>\n",
       "      <td>India</td>\n",
       "    </tr>\n",
       "    <tr>\n",
       "      <th>1</th>\n",
       "      <td>14</td>\n",
       "      <td>Australia</td>\n",
       "    </tr>\n",
       "    <tr>\n",
       "      <th>2</th>\n",
       "      <td>30</td>\n",
       "      <td>Brazil</td>\n",
       "    </tr>\n",
       "    <tr>\n",
       "      <th>3</th>\n",
       "      <td>37</td>\n",
       "      <td>Canada</td>\n",
       "    </tr>\n",
       "    <tr>\n",
       "      <th>4</th>\n",
       "      <td>94</td>\n",
       "      <td>Indonesia</td>\n",
       "    </tr>\n",
       "    <tr>\n",
       "      <th>5</th>\n",
       "      <td>148</td>\n",
       "      <td>New Zealand</td>\n",
       "    </tr>\n",
       "    <tr>\n",
       "      <th>6</th>\n",
       "      <td>162</td>\n",
       "      <td>Phillipines</td>\n",
       "    </tr>\n",
       "    <tr>\n",
       "      <th>7</th>\n",
       "      <td>166</td>\n",
       "      <td>Qatar</td>\n",
       "    </tr>\n",
       "    <tr>\n",
       "      <th>8</th>\n",
       "      <td>184</td>\n",
       "      <td>Singapore</td>\n",
       "    </tr>\n",
       "    <tr>\n",
       "      <th>9</th>\n",
       "      <td>189</td>\n",
       "      <td>South Africa</td>\n",
       "    </tr>\n",
       "    <tr>\n",
       "      <th>10</th>\n",
       "      <td>191</td>\n",
       "      <td>Sri Lanka</td>\n",
       "    </tr>\n",
       "    <tr>\n",
       "      <th>11</th>\n",
       "      <td>208</td>\n",
       "      <td>Turkey</td>\n",
       "    </tr>\n",
       "    <tr>\n",
       "      <th>12</th>\n",
       "      <td>214</td>\n",
       "      <td>UAE</td>\n",
       "    </tr>\n",
       "    <tr>\n",
       "      <th>13</th>\n",
       "      <td>215</td>\n",
       "      <td>United Kingdom</td>\n",
       "    </tr>\n",
       "    <tr>\n",
       "      <th>14</th>\n",
       "      <td>216</td>\n",
       "      <td>United States</td>\n",
       "    </tr>\n",
       "  </tbody>\n",
       "</table>\n",
       "</div>"
      ],
      "text/plain": [
       "    Country Code         Country\n",
       "0              1           India\n",
       "1             14       Australia\n",
       "2             30          Brazil\n",
       "3             37          Canada\n",
       "4             94       Indonesia\n",
       "5            148     New Zealand\n",
       "6            162     Phillipines\n",
       "7            166           Qatar\n",
       "8            184       Singapore\n",
       "9            189    South Africa\n",
       "10           191       Sri Lanka\n",
       "11           208          Turkey\n",
       "12           214             UAE\n",
       "13           215  United Kingdom\n",
       "14           216   United States"
      ]
     },
     "execution_count": 8,
     "metadata": {},
     "output_type": "execute_result"
    }
   ],
   "source": [
    "df1"
   ]
  },
  {
   "cell_type": "code",
   "execution_count": 9,
   "id": "88fbefe0",
   "metadata": {
    "execution": {
     "iopub.execute_input": "2022-10-19T08:56:46.960324Z",
     "iopub.status.busy": "2022-10-19T08:56:46.959488Z",
     "iopub.status.idle": "2022-10-19T08:56:46.997760Z",
     "shell.execute_reply": "2022-10-19T08:56:46.996346Z"
    },
    "papermill": {
     "duration": 0.051748,
     "end_time": "2022-10-19T08:56:47.000705",
     "exception": false,
     "start_time": "2022-10-19T08:56:46.948957",
     "status": "completed"
    },
    "tags": []
   },
   "outputs": [],
   "source": [
    "# merginng both dataframes on country code\n",
    "\n",
    "data = pd.merge(left=df0,right=df1,how='left',on='Country Code')"
   ]
  },
  {
   "cell_type": "code",
   "execution_count": 10,
   "id": "ae0d7763",
   "metadata": {
    "execution": {
     "iopub.execute_input": "2022-10-19T08:56:47.020608Z",
     "iopub.status.busy": "2022-10-19T08:56:47.019690Z",
     "iopub.status.idle": "2022-10-19T08:56:47.047024Z",
     "shell.execute_reply": "2022-10-19T08:56:47.045868Z"
    },
    "papermill": {
     "duration": 0.039786,
     "end_time": "2022-10-19T08:56:47.049321",
     "exception": false,
     "start_time": "2022-10-19T08:56:47.009535",
     "status": "completed"
    },
    "tags": []
   },
   "outputs": [
    {
     "data": {
      "text/html": [
       "<div>\n",
       "<style scoped>\n",
       "    .dataframe tbody tr th:only-of-type {\n",
       "        vertical-align: middle;\n",
       "    }\n",
       "\n",
       "    .dataframe tbody tr th {\n",
       "        vertical-align: top;\n",
       "    }\n",
       "\n",
       "    .dataframe thead th {\n",
       "        text-align: right;\n",
       "    }\n",
       "</style>\n",
       "<table border=\"1\" class=\"dataframe\">\n",
       "  <thead>\n",
       "    <tr style=\"text-align: right;\">\n",
       "      <th></th>\n",
       "      <th>Restaurant ID</th>\n",
       "      <th>Restaurant Name</th>\n",
       "      <th>Country Code</th>\n",
       "      <th>City</th>\n",
       "      <th>Address</th>\n",
       "      <th>Locality</th>\n",
       "      <th>Locality Verbose</th>\n",
       "      <th>Longitude</th>\n",
       "      <th>Latitude</th>\n",
       "      <th>Cuisines</th>\n",
       "      <th>Average Cost for two</th>\n",
       "      <th>Currency</th>\n",
       "      <th>Has Table booking</th>\n",
       "      <th>Has Online delivery</th>\n",
       "      <th>Is delivering now</th>\n",
       "      <th>Switch to order menu</th>\n",
       "      <th>Price range</th>\n",
       "      <th>Aggregate rating</th>\n",
       "      <th>Rating color</th>\n",
       "      <th>Rating text</th>\n",
       "      <th>Votes</th>\n",
       "      <th>Country</th>\n",
       "    </tr>\n",
       "  </thead>\n",
       "  <tbody>\n",
       "    <tr>\n",
       "      <th>0</th>\n",
       "      <td>6317637</td>\n",
       "      <td>Le Petit Souffle</td>\n",
       "      <td>162</td>\n",
       "      <td>Makati City</td>\n",
       "      <td>Third Floor, Century City Mall, Kalayaan Avenu...</td>\n",
       "      <td>Century City Mall, Poblacion, Makati City</td>\n",
       "      <td>Century City Mall, Poblacion, Makati City, Mak...</td>\n",
       "      <td>121.027535</td>\n",
       "      <td>14.565443</td>\n",
       "      <td>French, Japanese, Desserts</td>\n",
       "      <td>1100</td>\n",
       "      <td>Botswana Pula(P)</td>\n",
       "      <td>Yes</td>\n",
       "      <td>No</td>\n",
       "      <td>No</td>\n",
       "      <td>No</td>\n",
       "      <td>3</td>\n",
       "      <td>4.8</td>\n",
       "      <td>Dark Green</td>\n",
       "      <td>Excellent</td>\n",
       "      <td>314</td>\n",
       "      <td>Phillipines</td>\n",
       "    </tr>\n",
       "    <tr>\n",
       "      <th>1</th>\n",
       "      <td>6304287</td>\n",
       "      <td>Izakaya Kikufuji</td>\n",
       "      <td>162</td>\n",
       "      <td>Makati City</td>\n",
       "      <td>Little Tokyo, 2277 Chino Roces Avenue, Legaspi...</td>\n",
       "      <td>Little Tokyo, Legaspi Village, Makati City</td>\n",
       "      <td>Little Tokyo, Legaspi Village, Makati City, Ma...</td>\n",
       "      <td>121.014101</td>\n",
       "      <td>14.553708</td>\n",
       "      <td>Japanese</td>\n",
       "      <td>1200</td>\n",
       "      <td>Botswana Pula(P)</td>\n",
       "      <td>Yes</td>\n",
       "      <td>No</td>\n",
       "      <td>No</td>\n",
       "      <td>No</td>\n",
       "      <td>3</td>\n",
       "      <td>4.5</td>\n",
       "      <td>Dark Green</td>\n",
       "      <td>Excellent</td>\n",
       "      <td>591</td>\n",
       "      <td>Phillipines</td>\n",
       "    </tr>\n",
       "    <tr>\n",
       "      <th>2</th>\n",
       "      <td>6300002</td>\n",
       "      <td>Heat - Edsa Shangri-La</td>\n",
       "      <td>162</td>\n",
       "      <td>Mandaluyong City</td>\n",
       "      <td>Edsa Shangri-La, 1 Garden Way, Ortigas, Mandal...</td>\n",
       "      <td>Edsa Shangri-La, Ortigas, Mandaluyong City</td>\n",
       "      <td>Edsa Shangri-La, Ortigas, Mandaluyong City, Ma...</td>\n",
       "      <td>121.056831</td>\n",
       "      <td>14.581404</td>\n",
       "      <td>Seafood, Asian, Filipino, Indian</td>\n",
       "      <td>4000</td>\n",
       "      <td>Botswana Pula(P)</td>\n",
       "      <td>Yes</td>\n",
       "      <td>No</td>\n",
       "      <td>No</td>\n",
       "      <td>No</td>\n",
       "      <td>4</td>\n",
       "      <td>4.4</td>\n",
       "      <td>Green</td>\n",
       "      <td>Very Good</td>\n",
       "      <td>270</td>\n",
       "      <td>Phillipines</td>\n",
       "    </tr>\n",
       "    <tr>\n",
       "      <th>3</th>\n",
       "      <td>6318506</td>\n",
       "      <td>Ooma</td>\n",
       "      <td>162</td>\n",
       "      <td>Mandaluyong City</td>\n",
       "      <td>Third Floor, Mega Fashion Hall, SM Megamall, O...</td>\n",
       "      <td>SM Megamall, Ortigas, Mandaluyong City</td>\n",
       "      <td>SM Megamall, Ortigas, Mandaluyong City, Mandal...</td>\n",
       "      <td>121.056475</td>\n",
       "      <td>14.585318</td>\n",
       "      <td>Japanese, Sushi</td>\n",
       "      <td>1500</td>\n",
       "      <td>Botswana Pula(P)</td>\n",
       "      <td>No</td>\n",
       "      <td>No</td>\n",
       "      <td>No</td>\n",
       "      <td>No</td>\n",
       "      <td>4</td>\n",
       "      <td>4.9</td>\n",
       "      <td>Dark Green</td>\n",
       "      <td>Excellent</td>\n",
       "      <td>365</td>\n",
       "      <td>Phillipines</td>\n",
       "    </tr>\n",
       "    <tr>\n",
       "      <th>4</th>\n",
       "      <td>6314302</td>\n",
       "      <td>Sambo Kojin</td>\n",
       "      <td>162</td>\n",
       "      <td>Mandaluyong City</td>\n",
       "      <td>Third Floor, Mega Atrium, SM Megamall, Ortigas...</td>\n",
       "      <td>SM Megamall, Ortigas, Mandaluyong City</td>\n",
       "      <td>SM Megamall, Ortigas, Mandaluyong City, Mandal...</td>\n",
       "      <td>121.057508</td>\n",
       "      <td>14.584450</td>\n",
       "      <td>Japanese, Korean</td>\n",
       "      <td>1500</td>\n",
       "      <td>Botswana Pula(P)</td>\n",
       "      <td>Yes</td>\n",
       "      <td>No</td>\n",
       "      <td>No</td>\n",
       "      <td>No</td>\n",
       "      <td>4</td>\n",
       "      <td>4.8</td>\n",
       "      <td>Dark Green</td>\n",
       "      <td>Excellent</td>\n",
       "      <td>229</td>\n",
       "      <td>Phillipines</td>\n",
       "    </tr>\n",
       "  </tbody>\n",
       "</table>\n",
       "</div>"
      ],
      "text/plain": [
       "   Restaurant ID         Restaurant Name  Country Code              City  \\\n",
       "0        6317637        Le Petit Souffle           162       Makati City   \n",
       "1        6304287        Izakaya Kikufuji           162       Makati City   \n",
       "2        6300002  Heat - Edsa Shangri-La           162  Mandaluyong City   \n",
       "3        6318506                    Ooma           162  Mandaluyong City   \n",
       "4        6314302             Sambo Kojin           162  Mandaluyong City   \n",
       "\n",
       "                                             Address  \\\n",
       "0  Third Floor, Century City Mall, Kalayaan Avenu...   \n",
       "1  Little Tokyo, 2277 Chino Roces Avenue, Legaspi...   \n",
       "2  Edsa Shangri-La, 1 Garden Way, Ortigas, Mandal...   \n",
       "3  Third Floor, Mega Fashion Hall, SM Megamall, O...   \n",
       "4  Third Floor, Mega Atrium, SM Megamall, Ortigas...   \n",
       "\n",
       "                                     Locality  \\\n",
       "0   Century City Mall, Poblacion, Makati City   \n",
       "1  Little Tokyo, Legaspi Village, Makati City   \n",
       "2  Edsa Shangri-La, Ortigas, Mandaluyong City   \n",
       "3      SM Megamall, Ortigas, Mandaluyong City   \n",
       "4      SM Megamall, Ortigas, Mandaluyong City   \n",
       "\n",
       "                                    Locality Verbose   Longitude   Latitude  \\\n",
       "0  Century City Mall, Poblacion, Makati City, Mak...  121.027535  14.565443   \n",
       "1  Little Tokyo, Legaspi Village, Makati City, Ma...  121.014101  14.553708   \n",
       "2  Edsa Shangri-La, Ortigas, Mandaluyong City, Ma...  121.056831  14.581404   \n",
       "3  SM Megamall, Ortigas, Mandaluyong City, Mandal...  121.056475  14.585318   \n",
       "4  SM Megamall, Ortigas, Mandaluyong City, Mandal...  121.057508  14.584450   \n",
       "\n",
       "                           Cuisines  Average Cost for two          Currency  \\\n",
       "0        French, Japanese, Desserts                  1100  Botswana Pula(P)   \n",
       "1                          Japanese                  1200  Botswana Pula(P)   \n",
       "2  Seafood, Asian, Filipino, Indian                  4000  Botswana Pula(P)   \n",
       "3                   Japanese, Sushi                  1500  Botswana Pula(P)   \n",
       "4                  Japanese, Korean                  1500  Botswana Pula(P)   \n",
       "\n",
       "  Has Table booking Has Online delivery Is delivering now  \\\n",
       "0               Yes                  No                No   \n",
       "1               Yes                  No                No   \n",
       "2               Yes                  No                No   \n",
       "3                No                  No                No   \n",
       "4               Yes                  No                No   \n",
       "\n",
       "  Switch to order menu  Price range  Aggregate rating Rating color  \\\n",
       "0                   No            3               4.8   Dark Green   \n",
       "1                   No            3               4.5   Dark Green   \n",
       "2                   No            4               4.4        Green   \n",
       "3                   No            4               4.9   Dark Green   \n",
       "4                   No            4               4.8   Dark Green   \n",
       "\n",
       "  Rating text  Votes      Country  \n",
       "0   Excellent    314  Phillipines  \n",
       "1   Excellent    591  Phillipines  \n",
       "2   Very Good    270  Phillipines  \n",
       "3   Excellent    365  Phillipines  \n",
       "4   Excellent    229  Phillipines  "
      ]
     },
     "execution_count": 10,
     "metadata": {},
     "output_type": "execute_result"
    }
   ],
   "source": [
    "data.head()"
   ]
  },
  {
   "cell_type": "code",
   "execution_count": 11,
   "id": "a564cf41",
   "metadata": {
    "execution": {
     "iopub.execute_input": "2022-10-19T08:56:47.070202Z",
     "iopub.status.busy": "2022-10-19T08:56:47.069332Z",
     "iopub.status.idle": "2022-10-19T08:56:47.076429Z",
     "shell.execute_reply": "2022-10-19T08:56:47.075489Z"
    },
    "papermill": {
     "duration": 0.020155,
     "end_time": "2022-10-19T08:56:47.078709",
     "exception": false,
     "start_time": "2022-10-19T08:56:47.058554",
     "status": "completed"
    },
    "tags": []
   },
   "outputs": [
    {
     "data": {
      "text/plain": [
       "(9551, 22)"
      ]
     },
     "execution_count": 11,
     "metadata": {},
     "output_type": "execute_result"
    }
   ],
   "source": [
    "data.shape"
   ]
  },
  {
   "cell_type": "code",
   "execution_count": 12,
   "id": "70482cf9",
   "metadata": {
    "execution": {
     "iopub.execute_input": "2022-10-19T08:56:47.100272Z",
     "iopub.status.busy": "2022-10-19T08:56:47.099454Z",
     "iopub.status.idle": "2022-10-19T08:56:47.114195Z",
     "shell.execute_reply": "2022-10-19T08:56:47.113146Z"
    },
    "papermill": {
     "duration": 0.028826,
     "end_time": "2022-10-19T08:56:47.116920",
     "exception": false,
     "start_time": "2022-10-19T08:56:47.088094",
     "status": "completed"
    },
    "tags": []
   },
   "outputs": [],
   "source": [
    "# Dropping columns that are not useful.\n",
    "# Currency for average price column is not given. Hence dropping the average price columnn\n",
    "data.drop(columns=['Restaurant ID','Country Code','Address','Locality','Locality Verbose','Latitude','Longitude','Average Cost for two'],inplace=True)"
   ]
  },
  {
   "cell_type": "code",
   "execution_count": 13,
   "id": "0cf1570f",
   "metadata": {
    "execution": {
     "iopub.execute_input": "2022-10-19T08:56:47.138262Z",
     "iopub.status.busy": "2022-10-19T08:56:47.137454Z",
     "iopub.status.idle": "2022-10-19T08:56:47.156823Z",
     "shell.execute_reply": "2022-10-19T08:56:47.155622Z"
    },
    "papermill": {
     "duration": 0.032717,
     "end_time": "2022-10-19T08:56:47.159315",
     "exception": false,
     "start_time": "2022-10-19T08:56:47.126598",
     "status": "completed"
    },
    "tags": []
   },
   "outputs": [
    {
     "data": {
      "text/html": [
       "<div>\n",
       "<style scoped>\n",
       "    .dataframe tbody tr th:only-of-type {\n",
       "        vertical-align: middle;\n",
       "    }\n",
       "\n",
       "    .dataframe tbody tr th {\n",
       "        vertical-align: top;\n",
       "    }\n",
       "\n",
       "    .dataframe thead th {\n",
       "        text-align: right;\n",
       "    }\n",
       "</style>\n",
       "<table border=\"1\" class=\"dataframe\">\n",
       "  <thead>\n",
       "    <tr style=\"text-align: right;\">\n",
       "      <th></th>\n",
       "      <th>Restaurant Name</th>\n",
       "      <th>City</th>\n",
       "      <th>Cuisines</th>\n",
       "      <th>Currency</th>\n",
       "      <th>Has Table booking</th>\n",
       "      <th>Has Online delivery</th>\n",
       "      <th>Is delivering now</th>\n",
       "      <th>Switch to order menu</th>\n",
       "      <th>Price range</th>\n",
       "      <th>Aggregate rating</th>\n",
       "      <th>Rating color</th>\n",
       "      <th>Rating text</th>\n",
       "      <th>Votes</th>\n",
       "      <th>Country</th>\n",
       "    </tr>\n",
       "  </thead>\n",
       "  <tbody>\n",
       "    <tr>\n",
       "      <th>0</th>\n",
       "      <td>Le Petit Souffle</td>\n",
       "      <td>Makati City</td>\n",
       "      <td>French, Japanese, Desserts</td>\n",
       "      <td>Botswana Pula(P)</td>\n",
       "      <td>Yes</td>\n",
       "      <td>No</td>\n",
       "      <td>No</td>\n",
       "      <td>No</td>\n",
       "      <td>3</td>\n",
       "      <td>4.8</td>\n",
       "      <td>Dark Green</td>\n",
       "      <td>Excellent</td>\n",
       "      <td>314</td>\n",
       "      <td>Phillipines</td>\n",
       "    </tr>\n",
       "    <tr>\n",
       "      <th>1</th>\n",
       "      <td>Izakaya Kikufuji</td>\n",
       "      <td>Makati City</td>\n",
       "      <td>Japanese</td>\n",
       "      <td>Botswana Pula(P)</td>\n",
       "      <td>Yes</td>\n",
       "      <td>No</td>\n",
       "      <td>No</td>\n",
       "      <td>No</td>\n",
       "      <td>3</td>\n",
       "      <td>4.5</td>\n",
       "      <td>Dark Green</td>\n",
       "      <td>Excellent</td>\n",
       "      <td>591</td>\n",
       "      <td>Phillipines</td>\n",
       "    </tr>\n",
       "    <tr>\n",
       "      <th>2</th>\n",
       "      <td>Heat - Edsa Shangri-La</td>\n",
       "      <td>Mandaluyong City</td>\n",
       "      <td>Seafood, Asian, Filipino, Indian</td>\n",
       "      <td>Botswana Pula(P)</td>\n",
       "      <td>Yes</td>\n",
       "      <td>No</td>\n",
       "      <td>No</td>\n",
       "      <td>No</td>\n",
       "      <td>4</td>\n",
       "      <td>4.4</td>\n",
       "      <td>Green</td>\n",
       "      <td>Very Good</td>\n",
       "      <td>270</td>\n",
       "      <td>Phillipines</td>\n",
       "    </tr>\n",
       "    <tr>\n",
       "      <th>3</th>\n",
       "      <td>Ooma</td>\n",
       "      <td>Mandaluyong City</td>\n",
       "      <td>Japanese, Sushi</td>\n",
       "      <td>Botswana Pula(P)</td>\n",
       "      <td>No</td>\n",
       "      <td>No</td>\n",
       "      <td>No</td>\n",
       "      <td>No</td>\n",
       "      <td>4</td>\n",
       "      <td>4.9</td>\n",
       "      <td>Dark Green</td>\n",
       "      <td>Excellent</td>\n",
       "      <td>365</td>\n",
       "      <td>Phillipines</td>\n",
       "    </tr>\n",
       "    <tr>\n",
       "      <th>4</th>\n",
       "      <td>Sambo Kojin</td>\n",
       "      <td>Mandaluyong City</td>\n",
       "      <td>Japanese, Korean</td>\n",
       "      <td>Botswana Pula(P)</td>\n",
       "      <td>Yes</td>\n",
       "      <td>No</td>\n",
       "      <td>No</td>\n",
       "      <td>No</td>\n",
       "      <td>4</td>\n",
       "      <td>4.8</td>\n",
       "      <td>Dark Green</td>\n",
       "      <td>Excellent</td>\n",
       "      <td>229</td>\n",
       "      <td>Phillipines</td>\n",
       "    </tr>\n",
       "  </tbody>\n",
       "</table>\n",
       "</div>"
      ],
      "text/plain": [
       "          Restaurant Name              City                          Cuisines  \\\n",
       "0        Le Petit Souffle       Makati City        French, Japanese, Desserts   \n",
       "1        Izakaya Kikufuji       Makati City                          Japanese   \n",
       "2  Heat - Edsa Shangri-La  Mandaluyong City  Seafood, Asian, Filipino, Indian   \n",
       "3                    Ooma  Mandaluyong City                   Japanese, Sushi   \n",
       "4             Sambo Kojin  Mandaluyong City                  Japanese, Korean   \n",
       "\n",
       "           Currency Has Table booking Has Online delivery Is delivering now  \\\n",
       "0  Botswana Pula(P)               Yes                  No                No   \n",
       "1  Botswana Pula(P)               Yes                  No                No   \n",
       "2  Botswana Pula(P)               Yes                  No                No   \n",
       "3  Botswana Pula(P)                No                  No                No   \n",
       "4  Botswana Pula(P)               Yes                  No                No   \n",
       "\n",
       "  Switch to order menu  Price range  Aggregate rating Rating color  \\\n",
       "0                   No            3               4.8   Dark Green   \n",
       "1                   No            3               4.5   Dark Green   \n",
       "2                   No            4               4.4        Green   \n",
       "3                   No            4               4.9   Dark Green   \n",
       "4                   No            4               4.8   Dark Green   \n",
       "\n",
       "  Rating text  Votes      Country  \n",
       "0   Excellent    314  Phillipines  \n",
       "1   Excellent    591  Phillipines  \n",
       "2   Very Good    270  Phillipines  \n",
       "3   Excellent    365  Phillipines  \n",
       "4   Excellent    229  Phillipines  "
      ]
     },
     "execution_count": 13,
     "metadata": {},
     "output_type": "execute_result"
    }
   ],
   "source": [
    "data.head()"
   ]
  },
  {
   "cell_type": "code",
   "execution_count": 14,
   "id": "1482a24c",
   "metadata": {
    "execution": {
     "iopub.execute_input": "2022-10-19T08:56:47.181006Z",
     "iopub.status.busy": "2022-10-19T08:56:47.180292Z",
     "iopub.status.idle": "2022-10-19T08:56:47.188251Z",
     "shell.execute_reply": "2022-10-19T08:56:47.187280Z"
    },
    "papermill": {
     "duration": 0.021747,
     "end_time": "2022-10-19T08:56:47.190813",
     "exception": false,
     "start_time": "2022-10-19T08:56:47.169066",
     "status": "completed"
    },
    "tags": []
   },
   "outputs": [],
   "source": [
    "# Reordering columns\n",
    "\n",
    "data = data.reindex(columns=['Restaurant Name', 'Country' ,'City', 'Currency','Price range', \n",
    "                     'Cuisines', 'Has Table booking', 'Has Online delivery',\n",
    "       'Is delivering now', 'Switch to order menu' ,'Aggregate rating', 'Rating color', 'Rating text', 'Votes'],)"
   ]
  },
  {
   "cell_type": "code",
   "execution_count": 15,
   "id": "ecc86a47",
   "metadata": {
    "execution": {
     "iopub.execute_input": "2022-10-19T08:56:47.212662Z",
     "iopub.status.busy": "2022-10-19T08:56:47.211925Z",
     "iopub.status.idle": "2022-10-19T08:56:47.236219Z",
     "shell.execute_reply": "2022-10-19T08:56:47.235001Z"
    },
    "papermill": {
     "duration": 0.038233,
     "end_time": "2022-10-19T08:56:47.238870",
     "exception": false,
     "start_time": "2022-10-19T08:56:47.200637",
     "status": "completed"
    },
    "tags": []
   },
   "outputs": [
    {
     "name": "stdout",
     "output_type": "stream",
     "text": [
      "<class 'pandas.core.frame.DataFrame'>\n",
      "Int64Index: 9551 entries, 0 to 9550\n",
      "Data columns (total 14 columns):\n",
      " #   Column                Non-Null Count  Dtype  \n",
      "---  ------                --------------  -----  \n",
      " 0   Restaurant Name       9551 non-null   object \n",
      " 1   Country               9551 non-null   object \n",
      " 2   City                  9551 non-null   object \n",
      " 3   Currency              9551 non-null   object \n",
      " 4   Price range           9551 non-null   int64  \n",
      " 5   Cuisines              9542 non-null   object \n",
      " 6   Has Table booking     9551 non-null   object \n",
      " 7   Has Online delivery   9551 non-null   object \n",
      " 8   Is delivering now     9551 non-null   object \n",
      " 9   Switch to order menu  9551 non-null   object \n",
      " 10  Aggregate rating      9551 non-null   float64\n",
      " 11  Rating color          9551 non-null   object \n",
      " 12  Rating text           9551 non-null   object \n",
      " 13  Votes                 9551 non-null   int64  \n",
      "dtypes: float64(1), int64(2), object(11)\n",
      "memory usage: 1.1+ MB\n"
     ]
    }
   ],
   "source": [
    "data.info()"
   ]
  },
  {
   "cell_type": "markdown",
   "id": "93ec01f4",
   "metadata": {
    "papermill": {
     "duration": 0.00953,
     "end_time": "2022-10-19T08:56:47.258230",
     "exception": false,
     "start_time": "2022-10-19T08:56:47.248700",
     "status": "completed"
    },
    "tags": []
   },
   "source": [
    "- Price range column has values ranging from 1 to 4. Changing the data type to str for ease of analysis. "
   ]
  },
  {
   "cell_type": "code",
   "execution_count": 16,
   "id": "ea25b8d8",
   "metadata": {
    "execution": {
     "iopub.execute_input": "2022-10-19T08:56:47.280887Z",
     "iopub.status.busy": "2022-10-19T08:56:47.280091Z",
     "iopub.status.idle": "2022-10-19T08:56:47.292819Z",
     "shell.execute_reply": "2022-10-19T08:56:47.291494Z"
    },
    "papermill": {
     "duration": 0.026671,
     "end_time": "2022-10-19T08:56:47.295338",
     "exception": false,
     "start_time": "2022-10-19T08:56:47.268667",
     "status": "completed"
    },
    "tags": []
   },
   "outputs": [],
   "source": [
    "data['Price range'] = data['Price range'].astype(str)"
   ]
  },
  {
   "cell_type": "code",
   "execution_count": 17,
   "id": "2b2907d2",
   "metadata": {
    "execution": {
     "iopub.execute_input": "2022-10-19T08:56:47.317180Z",
     "iopub.status.busy": "2022-10-19T08:56:47.316749Z",
     "iopub.status.idle": "2022-10-19T08:56:47.332041Z",
     "shell.execute_reply": "2022-10-19T08:56:47.331023Z"
    },
    "papermill": {
     "duration": 0.028985,
     "end_time": "2022-10-19T08:56:47.334201",
     "exception": false,
     "start_time": "2022-10-19T08:56:47.305216",
     "status": "completed"
    },
    "tags": []
   },
   "outputs": [
    {
     "data": {
      "text/plain": [
       "Restaurant Name         0\n",
       "Country                 0\n",
       "City                    0\n",
       "Currency                0\n",
       "Price range             0\n",
       "Cuisines                9\n",
       "Has Table booking       0\n",
       "Has Online delivery     0\n",
       "Is delivering now       0\n",
       "Switch to order menu    0\n",
       "Aggregate rating        0\n",
       "Rating color            0\n",
       "Rating text             0\n",
       "Votes                   0\n",
       "dtype: int64"
      ]
     },
     "execution_count": 17,
     "metadata": {},
     "output_type": "execute_result"
    }
   ],
   "source": [
    "data.isnull().sum()"
   ]
  },
  {
   "cell_type": "markdown",
   "id": "0f3af632",
   "metadata": {
    "papermill": {
     "duration": 0.009364,
     "end_time": "2022-10-19T08:56:47.353335",
     "exception": false,
     "start_time": "2022-10-19T08:56:47.343971",
     "status": "completed"
    },
    "tags": []
   },
   "source": [
    "# <font color = red>Observation:</font>\n",
    "- No null values present in the data. Since the data is very clean, lets begin analyzing the columns\n"
   ]
  },
  {
   "cell_type": "code",
   "execution_count": 18,
   "id": "1e29e8f9",
   "metadata": {
    "execution": {
     "iopub.execute_input": "2022-10-19T08:56:47.375042Z",
     "iopub.status.busy": "2022-10-19T08:56:47.374152Z",
     "iopub.status.idle": "2022-10-19T08:56:47.384724Z",
     "shell.execute_reply": "2022-10-19T08:56:47.383476Z"
    },
    "papermill": {
     "duration": 0.024843,
     "end_time": "2022-10-19T08:56:47.387918",
     "exception": false,
     "start_time": "2022-10-19T08:56:47.363075",
     "status": "completed"
    },
    "tags": []
   },
   "outputs": [
    {
     "name": "stdout",
     "output_type": "stream",
     "text": [
      "\n",
      "Total Number of Columns in DataFrame:  14\n",
      "\n",
      "---------------------------------------------------------------------------------------------------------------------------------------\n",
      "Categorical Columns in DataFrame:  ['Restaurant Name', 'Country', 'City', 'Currency', 'Price range', 'Cuisines', 'Has Table booking', 'Has Online delivery', 'Is delivering now', 'Switch to order menu', 'Rating color', 'Rating text']\n",
      "\n",
      "Number of Categorical Columns in DataFrame:  12\n",
      "\n",
      "---------------------------------------------------------------------------------------------------------------------------------------\n",
      "\n",
      "Numerical Columns in DataFrame:  ['Aggregate rating', 'Votes']\n",
      "\n",
      "Number of Numerical Columns in DataFrame:  2\n"
     ]
    }
   ],
   "source": [
    "cat_cols = []\n",
    "num_cols = []\n",
    "\n",
    "for col in list(data.columns):\n",
    "    if data[col].dtype == 'object':\n",
    "        cat_cols.append(col)\n",
    "    else:\n",
    "        num_cols.append(col)\n",
    "print()        \n",
    "print('Total Number of Columns in DataFrame: ',len(data.columns))\n",
    "print()\n",
    "print('---' * 45)\n",
    "print('Categorical Columns in DataFrame: ', cat_cols)\n",
    "print()\n",
    "print('Number of Categorical Columns in DataFrame: ', len(cat_cols))\n",
    "print()\n",
    "print('---' * 45)\n",
    "print()\n",
    "print('Numerical Columns in DataFrame: ',num_cols)\n",
    "print()\n",
    "print('Number of Numerical Columns in DataFrame: ',len(num_cols))"
   ]
  },
  {
   "cell_type": "markdown",
   "id": "c0e5d71f",
   "metadata": {
    "execution": {
     "iopub.execute_input": "2022-10-19T07:18:25.558219Z",
     "iopub.status.busy": "2022-10-19T07:18:25.557767Z",
     "iopub.status.idle": "2022-10-19T07:18:25.562572Z",
     "shell.execute_reply": "2022-10-19T07:18:25.561717Z",
     "shell.execute_reply.started": "2022-10-19T07:18:25.558183Z"
    },
    "papermill": {
     "duration": 0.009787,
     "end_time": "2022-10-19T08:56:47.407811",
     "exception": false,
     "start_time": "2022-10-19T08:56:47.398024",
     "status": "completed"
    },
    "tags": []
   },
   "source": [
    "# <font color = red>Analyzing Categorical columns</font>"
   ]
  },
  {
   "cell_type": "code",
   "execution_count": 19,
   "id": "8183a2d4",
   "metadata": {
    "execution": {
     "iopub.execute_input": "2022-10-19T08:56:47.431687Z",
     "iopub.status.busy": "2022-10-19T08:56:47.430760Z",
     "iopub.status.idle": "2022-10-19T08:56:47.496295Z",
     "shell.execute_reply": "2022-10-19T08:56:47.495083Z"
    },
    "papermill": {
     "duration": 0.081759,
     "end_time": "2022-10-19T08:56:47.499647",
     "exception": false,
     "start_time": "2022-10-19T08:56:47.417888",
     "status": "completed"
    },
    "tags": []
   },
   "outputs": [
    {
     "name": "stdout",
     "output_type": "stream",
     "text": [
      "Value Counts for Restaurant Name column:\n",
      "Cafe Coffee Day             83\n",
      "Domino's Pizza              79\n",
      "Subway                      63\n",
      "Green Chick Chop            51\n",
      "McDonald's                  48\n",
      "                            ..\n",
      "Odeon Social                 1\n",
      "Johnny Rockets               1\n",
      "House of Commons             1\n",
      "HotMess                      1\n",
      "Walter's Coffee Roastery     1\n",
      "Name: Restaurant Name, Length: 7446, dtype: int64\n",
      "\n",
      "............................................................\n",
      "Value Counts for Restaurant Name column in percentage:\n",
      "Cafe Coffee Day             0.869019\n",
      "Domino's Pizza              0.827139\n",
      "Subway                      0.659617\n",
      "Green Chick Chop            0.533975\n",
      "McDonald's                  0.502565\n",
      "                              ...   \n",
      "Odeon Social                0.010470\n",
      "Johnny Rockets              0.010470\n",
      "House of Commons            0.010470\n",
      "HotMess                     0.010470\n",
      "Walter's Coffee Roastery    0.010470\n",
      "Name: Restaurant Name, Length: 7446, dtype: float64\n",
      "\n",
      "............................................................\n",
      "\n",
      "Mode of Restaurant Name column: Cafe Coffee Day\n",
      "\n",
      "XXXXXXXXXXXXXXXXXXXXXXXXXXXXXXXXXXXXXXXXXXXXXXXXXXXXXXXXXXXX\n",
      "\n",
      "Value Counts for Country column:\n",
      "India             8652\n",
      "United States      434\n",
      "United Kingdom      80\n",
      "Brazil              60\n",
      "UAE                 60\n",
      "South Africa        60\n",
      "New Zealand         40\n",
      "Turkey              34\n",
      "Australia           24\n",
      "Phillipines         22\n",
      "Indonesia           21\n",
      "Singapore           20\n",
      "Qatar               20\n",
      "Sri Lanka           20\n",
      "Canada               4\n",
      "Name: Country, dtype: int64\n",
      "\n",
      "............................................................\n",
      "Value Counts for Country column in percentage:\n",
      "India             90.587373\n",
      "United States      4.544027\n",
      "United Kingdom     0.837609\n",
      "Brazil             0.628206\n",
      "UAE                0.628206\n",
      "South Africa       0.628206\n",
      "New Zealand        0.418804\n",
      "Turkey             0.355984\n",
      "Australia          0.251283\n",
      "Phillipines        0.230342\n",
      "Indonesia          0.219872\n",
      "Singapore          0.209402\n",
      "Qatar              0.209402\n",
      "Sri Lanka          0.209402\n",
      "Canada             0.041880\n",
      "Name: Country, dtype: float64\n",
      "\n",
      "............................................................\n",
      "\n",
      "Mode of Country column: India\n",
      "\n",
      "XXXXXXXXXXXXXXXXXXXXXXXXXXXXXXXXXXXXXXXXXXXXXXXXXXXXXXXXXXXX\n",
      "\n",
      "Value Counts for City column:\n",
      "New Delhi           5473\n",
      "Gurgaon             1118\n",
      "Noida               1080\n",
      "Faridabad            251\n",
      "Ghaziabad             25\n",
      "                    ... \n",
      "Panchkula              1\n",
      "Mc Millan              1\n",
      "Mayfield               1\n",
      "Macedon                1\n",
      "Vineland Station       1\n",
      "Name: City, Length: 141, dtype: int64\n",
      "\n",
      "............................................................\n",
      "Value Counts for City column in percentage:\n",
      "New Delhi           57.302900\n",
      "Gurgaon             11.705581\n",
      "Noida               11.307716\n",
      "Faridabad            2.627997\n",
      "Ghaziabad            0.261753\n",
      "                      ...    \n",
      "Panchkula            0.010470\n",
      "Mc Millan            0.010470\n",
      "Mayfield             0.010470\n",
      "Macedon              0.010470\n",
      "Vineland Station     0.010470\n",
      "Name: City, Length: 141, dtype: float64\n",
      "\n",
      "............................................................\n",
      "\n",
      "Mode of City column: New Delhi\n",
      "\n",
      "XXXXXXXXXXXXXXXXXXXXXXXXXXXXXXXXXXXXXXXXXXXXXXXXXXXXXXXXXXXX\n",
      "\n",
      "Value Counts for Currency column:\n",
      "Indian Rupees(Rs.)        8652\n",
      "Dollar($)                  482\n",
      "Pounds(£)                  80\n",
      "Brazilian Real(R$)          60\n",
      "Emirati Diram(AED)          60\n",
      "Rand(R)                     60\n",
      "NewZealand($)               40\n",
      "Turkish Lira(TL)            34\n",
      "Botswana Pula(P)            22\n",
      "Indonesian Rupiah(IDR)      21\n",
      "Qatari Rial(QR)             20\n",
      "Sri Lankan Rupee(LKR)       20\n",
      "Name: Currency, dtype: int64\n",
      "\n",
      "............................................................\n",
      "Value Counts for Currency column in percentage:\n",
      "Indian Rupees(Rs.)        90.587373\n",
      "Dollar($)                  5.046592\n",
      "Pounds(£)                 0.837609\n",
      "Brazilian Real(R$)         0.628206\n",
      "Emirati Diram(AED)         0.628206\n",
      "Rand(R)                    0.628206\n",
      "NewZealand($)              0.418804\n",
      "Turkish Lira(TL)           0.355984\n",
      "Botswana Pula(P)           0.230342\n",
      "Indonesian Rupiah(IDR)     0.219872\n",
      "Qatari Rial(QR)            0.209402\n",
      "Sri Lankan Rupee(LKR)      0.209402\n",
      "Name: Currency, dtype: float64\n",
      "\n",
      "............................................................\n",
      "\n",
      "Mode of Currency column: Indian Rupees(Rs.)\n",
      "\n",
      "XXXXXXXXXXXXXXXXXXXXXXXXXXXXXXXXXXXXXXXXXXXXXXXXXXXXXXXXXXXX\n",
      "\n",
      "Value Counts for Price range column:\n",
      "1    4444\n",
      "2    3113\n",
      "3    1408\n",
      "4     586\n",
      "Name: Price range, dtype: int64\n",
      "\n",
      "............................................................\n",
      "Value Counts for Price range column in percentage:\n",
      "1    46.529159\n",
      "2    32.593446\n",
      "3    14.741912\n",
      "4     6.135483\n",
      "Name: Price range, dtype: float64\n",
      "\n",
      "............................................................\n",
      "\n",
      "Mode of Price range column: 1\n",
      "\n",
      "XXXXXXXXXXXXXXXXXXXXXXXXXXXXXXXXXXXXXXXXXXXXXXXXXXXXXXXXXXXX\n",
      "\n",
      "Value Counts for Cuisines column:\n",
      "North Indian                                             936\n",
      "North Indian, Chinese                                    511\n",
      "Chinese                                                  354\n",
      "Fast Food                                                354\n",
      "North Indian, Mughlai                                    334\n",
      "                                                        ... \n",
      "Bengali, Fast Food                                         1\n",
      "North Indian, Rajasthani, Asian                            1\n",
      "Chinese, Thai, Malaysian, Indonesian                       1\n",
      "Bakery, Desserts, North Indian, Bengali, South Indian      1\n",
      "Italian, World Cuisine                                     1\n",
      "Name: Cuisines, Length: 1825, dtype: int64\n",
      "\n",
      "............................................................\n",
      "Value Counts for Cuisines column in percentage:\n",
      "North Indian                                             9.809264\n",
      "North Indian, Chinese                                    5.355271\n",
      "Chinese                                                  3.709914\n",
      "Fast Food                                                3.709914\n",
      "North Indian, Mughlai                                    3.500314\n",
      "                                                           ...   \n",
      "Bengali, Fast Food                                       0.010480\n",
      "North Indian, Rajasthani, Asian                          0.010480\n",
      "Chinese, Thai, Malaysian, Indonesian                     0.010480\n",
      "Bakery, Desserts, North Indian, Bengali, South Indian    0.010480\n",
      "Italian, World Cuisine                                   0.010480\n",
      "Name: Cuisines, Length: 1825, dtype: float64\n",
      "\n",
      "............................................................\n",
      "\n",
      "Mode of Cuisines column: North Indian\n",
      "\n",
      "XXXXXXXXXXXXXXXXXXXXXXXXXXXXXXXXXXXXXXXXXXXXXXXXXXXXXXXXXXXX\n",
      "\n",
      "Value Counts for Has Table booking column:\n",
      "No     8393\n",
      "Yes    1158\n",
      "Name: Has Table booking, dtype: int64\n",
      "\n",
      "............................................................\n",
      "Value Counts for Has Table booking column in percentage:\n",
      "No     87.875615\n",
      "Yes    12.124385\n",
      "Name: Has Table booking, dtype: float64\n",
      "\n",
      "............................................................\n",
      "\n",
      "Mode of Has Table booking column: No\n",
      "\n",
      "XXXXXXXXXXXXXXXXXXXXXXXXXXXXXXXXXXXXXXXXXXXXXXXXXXXXXXXXXXXX\n",
      "\n",
      "Value Counts for Has Online delivery column:\n",
      "No     7100\n",
      "Yes    2451\n",
      "Name: Has Online delivery, dtype: int64\n",
      "\n",
      "............................................................\n",
      "Value Counts for Has Online delivery column in percentage:\n",
      "No     74.337766\n",
      "Yes    25.662234\n",
      "Name: Has Online delivery, dtype: float64\n",
      "\n",
      "............................................................\n",
      "\n",
      "Mode of Has Online delivery column: No\n",
      "\n",
      "XXXXXXXXXXXXXXXXXXXXXXXXXXXXXXXXXXXXXXXXXXXXXXXXXXXXXXXXXXXX\n",
      "\n",
      "Value Counts for Is delivering now column:\n",
      "No     9517\n",
      "Yes      34\n",
      "Name: Is delivering now, dtype: int64\n",
      "\n",
      "............................................................\n",
      "Value Counts for Is delivering now column in percentage:\n",
      "No     99.644016\n",
      "Yes     0.355984\n",
      "Name: Is delivering now, dtype: float64\n",
      "\n",
      "............................................................\n",
      "\n",
      "Mode of Is delivering now column: No\n",
      "\n",
      "XXXXXXXXXXXXXXXXXXXXXXXXXXXXXXXXXXXXXXXXXXXXXXXXXXXXXXXXXXXX\n",
      "\n",
      "Value Counts for Switch to order menu column:\n",
      "No    9551\n",
      "Name: Switch to order menu, dtype: int64\n",
      "\n",
      "............................................................\n",
      "Value Counts for Switch to order menu column in percentage:\n",
      "No    100.0\n",
      "Name: Switch to order menu, dtype: float64\n",
      "\n",
      "............................................................\n",
      "\n",
      "Mode of Switch to order menu column: No\n",
      "\n",
      "XXXXXXXXXXXXXXXXXXXXXXXXXXXXXXXXXXXXXXXXXXXXXXXXXXXXXXXXXXXX\n",
      "\n",
      "Value Counts for Rating color column:\n",
      "Orange        3737\n",
      "White         2148\n",
      "Yellow        2100\n",
      "Green         1079\n",
      "Dark Green     301\n",
      "Red            186\n",
      "Name: Rating color, dtype: int64\n",
      "\n",
      "............................................................\n",
      "Value Counts for Rating color column in percentage:\n",
      "Orange        39.126793\n",
      "White         22.489792\n",
      "Yellow        21.987226\n",
      "Green         11.297246\n",
      "Dark Green     3.151502\n",
      "Red            1.947440\n",
      "Name: Rating color, dtype: float64\n",
      "\n",
      "............................................................\n",
      "\n",
      "Mode of Rating color column: Orange\n",
      "\n",
      "XXXXXXXXXXXXXXXXXXXXXXXXXXXXXXXXXXXXXXXXXXXXXXXXXXXXXXXXXXXX\n",
      "\n",
      "Value Counts for Rating text column:\n",
      "Average      3737\n",
      "Not rated    2148\n",
      "Good         2100\n",
      "Very Good    1079\n",
      "Excellent     301\n",
      "Poor          186\n",
      "Name: Rating text, dtype: int64\n",
      "\n",
      "............................................................\n",
      "Value Counts for Rating text column in percentage:\n",
      "Average      39.126793\n",
      "Not rated    22.489792\n",
      "Good         21.987226\n",
      "Very Good    11.297246\n",
      "Excellent     3.151502\n",
      "Poor          1.947440\n",
      "Name: Rating text, dtype: float64\n",
      "\n",
      "............................................................\n",
      "\n",
      "Mode of Rating text column: Average\n",
      "\n",
      "XXXXXXXXXXXXXXXXXXXXXXXXXXXXXXXXXXXXXXXXXXXXXXXXXXXXXXXXXXXX\n",
      "\n"
     ]
    }
   ],
   "source": [
    "for i in cat_cols:\n",
    "    print('Value Counts for {} column:'.format(i))\n",
    "    print(data[i].value_counts())\n",
    "    print()\n",
    "    print('.' * 60)\n",
    "    print('Value Counts for {} column in percentage:'.format(i))\n",
    "    print(data[i].value_counts(normalize=True)*100)\n",
    "    print()\n",
    "    print('.' * 60)\n",
    "    print()\n",
    "    print('Mode of {} column:'.format(i),data[i].mode()[0])\n",
    "    print()\n",
    "    print('X'*60)\n",
    "    print()"
   ]
  },
  {
   "cell_type": "markdown",
   "id": "a1bb1154",
   "metadata": {
    "papermill": {
     "duration": 0.010297,
     "end_time": "2022-10-19T08:56:47.520622",
     "exception": false,
     "start_time": "2022-10-19T08:56:47.510325",
     "status": "completed"
    },
    "tags": []
   },
   "source": [
    "# <font color = red> Obervations: </font>\n",
    "- 'Cafe Coffee Day' is the most listed in `Restraunts` column with 0.8% of total restauraunts\n",
    "- 90% of the restaurants in the data are from India \n",
    "- 58% of the restaurants in the data are in Delhi\n",
    "- 9.8% of the restaurants serve North Indian cusine\n",
    "- Most of the restaurants have Average rating\n",
    "- 46% of the restaurants have a price range of  '1'."
   ]
  },
  {
   "cell_type": "markdown",
   "id": "b2c85ba5",
   "metadata": {
    "execution": {
     "iopub.execute_input": "2022-10-19T07:28:37.484310Z",
     "iopub.status.busy": "2022-10-19T07:28:37.483847Z",
     "iopub.status.idle": "2022-10-19T07:28:37.489193Z",
     "shell.execute_reply": "2022-10-19T07:28:37.487932Z",
     "shell.execute_reply.started": "2022-10-19T07:28:37.484274Z"
    },
    "papermill": {
     "duration": 0.010424,
     "end_time": "2022-10-19T08:56:47.541595",
     "exception": false,
     "start_time": "2022-10-19T08:56:47.531171",
     "status": "completed"
    },
    "tags": []
   },
   "source": [
    "# <font color = red>Analyzing Numerical columns</font>"
   ]
  },
  {
   "cell_type": "code",
   "execution_count": 20,
   "id": "b15c498c",
   "metadata": {
    "execution": {
     "iopub.execute_input": "2022-10-19T08:56:47.565272Z",
     "iopub.status.busy": "2022-10-19T08:56:47.564276Z",
     "iopub.status.idle": "2022-10-19T08:56:47.899641Z",
     "shell.execute_reply": "2022-10-19T08:56:47.898298Z"
    },
    "papermill": {
     "duration": 0.350821,
     "end_time": "2022-10-19T08:56:47.903194",
     "exception": false,
     "start_time": "2022-10-19T08:56:47.552373",
     "status": "completed"
    },
    "tags": []
   },
   "outputs": [
    {
     "name": "stdout",
     "output_type": "stream",
     "text": [
      "\n",
      "Statistical information for Aggregate rating column: \n",
      "\n",
      "count    9551.000000\n",
      "mean        2.666370\n",
      "std         1.516378\n",
      "min         0.000000\n",
      "25%         2.500000\n",
      "50%         3.200000\n",
      "75%         3.700000\n",
      "max         4.900000\n",
      "Name: Aggregate rating, dtype: float64\n",
      "\n",
      "............................................................\n"
     ]
    },
    {
     "data": {
      "image/png": "[encoded data removed]",
      "text/plain": [
       "<Figure size 216x360 with 1 Axes>"
      ]
     },
     "metadata": {},
     "output_type": "display_data"
    },
    {
     "name": "stdout",
     "output_type": "stream",
     "text": [
      "\n",
      "XXXXXXXXXXXXXXXXXXXXXXXXXXXXXXXXXXXXXXXXXXXXXXXXXXXXXXXXXXXX\n",
      "\n",
      "Statistical information for Votes column: \n",
      "\n",
      "count     9551.000000\n",
      "mean       156.909748\n",
      "std        430.169145\n",
      "min          0.000000\n",
      "25%          5.000000\n",
      "50%         31.000000\n",
      "75%        131.000000\n",
      "max      10934.000000\n",
      "Name: Votes, dtype: float64\n",
      "\n",
      "............................................................\n"
     ]
    },
    {
     "data": {
      "image/png": "[encoded data removed]",
      "text/plain": [
       "<Figure size 216x360 with 1 Axes>"
      ]
     },
     "metadata": {},
     "output_type": "display_data"
    },
    {
     "name": "stdout",
     "output_type": "stream",
     "text": [
      "\n",
      "XXXXXXXXXXXXXXXXXXXXXXXXXXXXXXXXXXXXXXXXXXXXXXXXXXXXXXXXXXXX\n"
     ]
    }
   ],
   "source": [
    "for i in num_cols:\n",
    "    print()\n",
    "    print('Statistical information for {} column: '.format(i))\n",
    "    print()\n",
    "    print(data[i].describe())\n",
    "    print()\n",
    "    print('.' * 60)\n",
    "    plt.figure(figsize=(3,5))\n",
    "    sns.boxplot(y =data[i])\n",
    "    plt.show()\n",
    "    print()\n",
    "    print('X'*60)"
   ]
  },
  {
   "cell_type": "code",
   "execution_count": null,
   "id": "c4606144",
   "metadata": {
    "papermill": {
     "duration": 0.010741,
     "end_time": "2022-10-19T08:56:47.927957",
     "exception": false,
     "start_time": "2022-10-19T08:56:47.917216",
     "status": "completed"
    },
    "tags": []
   },
   "outputs": [],
   "source": []
  },
  {
   "cell_type": "code",
   "execution_count": null,
   "id": "47ce9221",
   "metadata": {
    "papermill": {
     "duration": 0.010811,
     "end_time": "2022-10-19T08:56:47.950037",
     "exception": false,
     "start_time": "2022-10-19T08:56:47.939226",
     "status": "completed"
    },
    "tags": []
   },
   "outputs": [],
   "source": []
  },
  {
   "cell_type": "code",
   "execution_count": null,
   "id": "c71ae6b7",
   "metadata": {
    "papermill": {
     "duration": 0.010509,
     "end_time": "2022-10-19T08:56:47.971639",
     "exception": false,
     "start_time": "2022-10-19T08:56:47.961130",
     "status": "completed"
    },
    "tags": []
   },
   "outputs": [],
   "source": []
  },
  {
   "cell_type": "code",
   "execution_count": null,
   "id": "41ec4ccb",
   "metadata": {
    "papermill": {
     "duration": 0.010592,
     "end_time": "2022-10-19T08:56:47.993184",
     "exception": false,
     "start_time": "2022-10-19T08:56:47.982592",
     "status": "completed"
    },
    "tags": []
   },
   "outputs": [],
   "source": []
  },
  {
   "cell_type": "code",
   "execution_count": null,
   "id": "e230aca9",
   "metadata": {
    "papermill": {
     "duration": 0.010766,
     "end_time": "2022-10-19T08:56:48.015007",
     "exception": false,
     "start_time": "2022-10-19T08:56:48.004241",
     "status": "completed"
    },
    "tags": []
   },
   "outputs": [],
   "source": []
  },
  {
   "cell_type": "code",
   "execution_count": null,
   "id": "5828d103",
   "metadata": {
    "papermill": {
     "duration": 0.010698,
     "end_time": "2022-10-19T08:56:48.037340",
     "exception": false,
     "start_time": "2022-10-19T08:56:48.026642",
     "status": "completed"
    },
    "tags": []
   },
   "outputs": [],
   "source": []
  },
  {
   "cell_type": "code",
   "execution_count": null,
   "id": "2871f7c6",
   "metadata": {
    "papermill": {
     "duration": 0.010654,
     "end_time": "2022-10-19T08:56:48.059034",
     "exception": false,
     "start_time": "2022-10-19T08:56:48.048380",
     "status": "completed"
    },
    "tags": []
   },
   "outputs": [],
   "source": []
  },
  {
   "cell_type": "code",
   "execution_count": null,
   "id": "5af8953b",
   "metadata": {
    "papermill": {
     "duration": 0.010702,
     "end_time": "2022-10-19T08:56:48.081079",
     "exception": false,
     "start_time": "2022-10-19T08:56:48.070377",
     "status": "completed"
    },
    "tags": []
   },
   "outputs": [],
   "source": []
  },
  {
   "cell_type": "code",
   "execution_count": null,
   "id": "6476096f",
   "metadata": {
    "papermill": {
     "duration": 0.011007,
     "end_time": "2022-10-19T08:56:48.103128",
     "exception": false,
     "start_time": "2022-10-19T08:56:48.092121",
     "status": "completed"
    },
    "tags": []
   },
   "outputs": [],
   "source": []
  },
  {
   "cell_type": "code",
   "execution_count": null,
   "id": "8a722134",
   "metadata": {
    "papermill": {
     "duration": 0.010624,
     "end_time": "2022-10-19T08:56:48.125009",
     "exception": false,
     "start_time": "2022-10-19T08:56:48.114385",
     "status": "completed"
    },
    "tags": []
   },
   "outputs": [],
   "source": []
  }
 ],
 "metadata": {
  "kernelspec": {
   "display_name": "Python 3",
   "language": "python",
   "name": "python3"
  },
  "language_info": {
   "codemirror_mode": {
    "name": "ipython",
    "version": 3
   },
   "file_extension": ".py",
   "mimetype": "text/x-python",
   "name": "python",
   "nbconvert_exporter": "python",
   "pygments_lexer": "ipython3",
   "version": "3.7.12"
  },
  "papermill": {
   "default_parameters": {},
   "duration": 13.063064,
   "end_time": "2022-10-19T08:56:48.960319",
   "environment_variables": {},
   "exception": null,
   "input_path": "__notebook__.ipynb",
   "output_path": "__notebook__.ipynb",
   "parameters": {},
   "start_time": "2022-10-19T08:56:35.897255",
   "version": "2.3.4"
  }
 },
 "nbformat": 4,
 "nbformat_minor": 5
}
