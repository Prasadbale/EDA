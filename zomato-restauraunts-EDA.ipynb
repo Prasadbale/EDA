{
 "cells": [
  {
   "cell_type": "code",
   "execution_count": 1,
   "id": "d6632e29",
   "metadata": {
    "_cell_guid": "b1076dfc-b9ad-4769-8c92-a6c4dae69d19",
    "_uuid": "8f2839f25d086af736a60e9eeb907d3b93b6e0e5",
    "execution": {
     "iopub.execute_input": "2022-10-19T09:33:42.556308Z",
     "iopub.status.busy": "2022-10-19T09:33:42.554770Z",
     "iopub.status.idle": "2022-10-19T09:33:42.581703Z",
     "shell.execute_reply": "2022-10-19T09:33:42.579621Z"
    },
    "papermill": {
     "duration": 0.040777,
     "end_time": "2022-10-19T09:33:42.584489",
     "exception": false,
     "start_time": "2022-10-19T09:33:42.543712",
     "status": "completed"
    },
    "tags": []
   },
   "outputs": [
    {
     "name": "stdout",
     "output_type": "stream",
     "text": [
      "/kaggle/input/zomato-restaurants-data/zomato.csv\n",
      "/kaggle/input/zomato-restaurants-data/file5.json\n",
      "/kaggle/input/zomato-restaurants-data/file1.json\n",
      "/kaggle/input/zomato-restaurants-data/file2.json\n",
      "/kaggle/input/zomato-restaurants-data/file4.json\n",
      "/kaggle/input/zomato-restaurants-data/file3.json\n",
      "/kaggle/input/zomato-restaurants-data/Country-Code.xlsx\n"
     ]
    }
   ],
   "source": [
    "# This Python 3 environment comes with many helpful analytics libraries installed\n",
    "# It is defined by the kaggle/python Docker image: https://github.com/kaggle/docker-python\n",
    "# For example, here's several helpful packages to load\n",
    "\n",
    "import numpy as np # linear algebra\n",
    "import pandas as pd # data processing, CSV file I/O (e.g. pd.read_csv)\n",
    "\n",
    "# Input data files are available in the read-only \"../input/\" directory\n",
    "# For example, running this (by clicking run or pressing Shift+Enter) will list all files under the input directory\n",
    "\n",
    "import os\n",
    "for dirname, _, filenames in os.walk('/kaggle/input'):\n",
    "    for filename in filenames:\n",
    "        print(os.path.join(dirname, filename))\n",
    "\n",
    "# You can write up to 20GB to the current directory (/kaggle/working/) that gets preserved as output when you create a version using \"Save & Run All\" \n",
    "# You can also write temporary files to /kaggle/temp/, but they won't be saved outside of the current session"
   ]
  },
  {
   "cell_type": "code",
   "execution_count": 2,
   "id": "cb0bd3f3",
   "metadata": {
    "execution": {
     "iopub.execute_input": "2022-10-19T09:33:42.601469Z",
     "iopub.status.busy": "2022-10-19T09:33:42.599954Z",
     "iopub.status.idle": "2022-10-19T09:33:43.730345Z",
     "shell.execute_reply": "2022-10-19T09:33:43.729567Z"
    },
    "papermill": {
     "duration": 1.140591,
     "end_time": "2022-10-19T09:33:43.732542",
     "exception": false,
     "start_time": "2022-10-19T09:33:42.591951",
     "status": "completed"
    },
    "tags": []
   },
   "outputs": [],
   "source": [
    "# importing necessary libraries\n",
    "\n",
    "import numpy as np\n",
    "import pandas as pd\n",
    "import matplotlib.pyplot as plt\n",
    "import seaborn as sns\n",
    "%matplotlib inline"
   ]
  },
  {
   "cell_type": "code",
   "execution_count": 3,
   "id": "99c679b5",
   "metadata": {
    "execution": {
     "iopub.execute_input": "2022-10-19T09:33:43.748541Z",
     "iopub.status.busy": "2022-10-19T09:33:43.748000Z",
     "iopub.status.idle": "2022-10-19T09:33:44.238923Z",
     "shell.execute_reply": "2022-10-19T09:33:44.237402Z"
    },
    "papermill": {
     "duration": 0.501886,
     "end_time": "2022-10-19T09:33:44.241592",
     "exception": false,
     "start_time": "2022-10-19T09:33:43.739706",
     "status": "completed"
    },
    "tags": []
   },
   "outputs": [],
   "source": [
    "# importing csv file using pandas\n",
    "df0 = pd.read_csv('/kaggle/input/zomato-restaurants-data/zomato.csv',encoding='latin-1') \n",
    "df1 = pd.read_excel('/kaggle/input/zomato-restaurants-data/Country-Code.xlsx')"
   ]
  },
  {
   "cell_type": "code",
   "execution_count": 4,
   "id": "3a548afb",
   "metadata": {
    "execution": {
     "iopub.execute_input": "2022-10-19T09:33:44.259107Z",
     "iopub.status.busy": "2022-10-19T09:33:44.258599Z",
     "iopub.status.idle": "2022-10-19T09:33:44.265879Z",
     "shell.execute_reply": "2022-10-19T09:33:44.264035Z"
    },
    "papermill": {
     "duration": 0.017999,
     "end_time": "2022-10-19T09:33:44.268224",
     "exception": false,
     "start_time": "2022-10-19T09:33:44.250225",
     "status": "completed"
    },
    "tags": []
   },
   "outputs": [],
   "source": [
    "# setting custom pandas custom options\n",
    "\n",
    "pd.set_option('display.max_columns',50)\n",
    "sns.set_style('whitegrid')"
   ]
  },
  {
   "cell_type": "code",
   "execution_count": 5,
   "id": "f6377576",
   "metadata": {
    "execution": {
     "iopub.execute_input": "2022-10-19T09:33:44.283731Z",
     "iopub.status.busy": "2022-10-19T09:33:44.283375Z",
     "iopub.status.idle": "2022-10-19T09:33:44.312281Z",
     "shell.execute_reply": "2022-10-19T09:33:44.311125Z"
    },
    "papermill": {
     "duration": 0.039992,
     "end_time": "2022-10-19T09:33:44.315237",
     "exception": false,
     "start_time": "2022-10-19T09:33:44.275245",
     "status": "completed"
    },
    "tags": []
   },
   "outputs": [
    {
     "data": {
      "text/html": [
       "<div>\n",
       "<style scoped>\n",
       "    .dataframe tbody tr th:only-of-type {\n",
       "        vertical-align: middle;\n",
       "    }\n",
       "\n",
       "    .dataframe tbody tr th {\n",
       "        vertical-align: top;\n",
       "    }\n",
       "\n",
       "    .dataframe thead th {\n",
       "        text-align: right;\n",
       "    }\n",
       "</style>\n",
       "<table border=\"1\" class=\"dataframe\">\n",
       "  <thead>\n",
       "    <tr style=\"text-align: right;\">\n",
       "      <th></th>\n",
       "      <th>Restaurant ID</th>\n",
       "      <th>Restaurant Name</th>\n",
       "      <th>Country Code</th>\n",
       "      <th>City</th>\n",
       "      <th>Address</th>\n",
       "      <th>Locality</th>\n",
       "      <th>Locality Verbose</th>\n",
       "      <th>Longitude</th>\n",
       "      <th>Latitude</th>\n",
       "      <th>Cuisines</th>\n",
       "      <th>Average Cost for two</th>\n",
       "      <th>Currency</th>\n",
       "      <th>Has Table booking</th>\n",
       "      <th>Has Online delivery</th>\n",
       "      <th>Is delivering now</th>\n",
       "      <th>Switch to order menu</th>\n",
       "      <th>Price range</th>\n",
       "      <th>Aggregate rating</th>\n",
       "      <th>Rating color</th>\n",
       "      <th>Rating text</th>\n",
       "      <th>Votes</th>\n",
       "    </tr>\n",
       "  </thead>\n",
       "  <tbody>\n",
       "    <tr>\n",
       "      <th>0</th>\n",
       "      <td>6317637</td>\n",
       "      <td>Le Petit Souffle</td>\n",
       "      <td>162</td>\n",
       "      <td>Makati City</td>\n",
       "      <td>Third Floor, Century City Mall, Kalayaan Avenu...</td>\n",
       "      <td>Century City Mall, Poblacion, Makati City</td>\n",
       "      <td>Century City Mall, Poblacion, Makati City, Mak...</td>\n",
       "      <td>121.027535</td>\n",
       "      <td>14.565443</td>\n",
       "      <td>French, Japanese, Desserts</td>\n",
       "      <td>1100</td>\n",
       "      <td>Botswana Pula(P)</td>\n",
       "      <td>Yes</td>\n",
       "      <td>No</td>\n",
       "      <td>No</td>\n",
       "      <td>No</td>\n",
       "      <td>3</td>\n",
       "      <td>4.8</td>\n",
       "      <td>Dark Green</td>\n",
       "      <td>Excellent</td>\n",
       "      <td>314</td>\n",
       "    </tr>\n",
       "    <tr>\n",
       "      <th>1</th>\n",
       "      <td>6304287</td>\n",
       "      <td>Izakaya Kikufuji</td>\n",
       "      <td>162</td>\n",
       "      <td>Makati City</td>\n",
       "      <td>Little Tokyo, 2277 Chino Roces Avenue, Legaspi...</td>\n",
       "      <td>Little Tokyo, Legaspi Village, Makati City</td>\n",
       "      <td>Little Tokyo, Legaspi Village, Makati City, Ma...</td>\n",
       "      <td>121.014101</td>\n",
       "      <td>14.553708</td>\n",
       "      <td>Japanese</td>\n",
       "      <td>1200</td>\n",
       "      <td>Botswana Pula(P)</td>\n",
       "      <td>Yes</td>\n",
       "      <td>No</td>\n",
       "      <td>No</td>\n",
       "      <td>No</td>\n",
       "      <td>3</td>\n",
       "      <td>4.5</td>\n",
       "      <td>Dark Green</td>\n",
       "      <td>Excellent</td>\n",
       "      <td>591</td>\n",
       "    </tr>\n",
       "    <tr>\n",
       "      <th>2</th>\n",
       "      <td>6300002</td>\n",
       "      <td>Heat - Edsa Shangri-La</td>\n",
       "      <td>162</td>\n",
       "      <td>Mandaluyong City</td>\n",
       "      <td>Edsa Shangri-La, 1 Garden Way, Ortigas, Mandal...</td>\n",
       "      <td>Edsa Shangri-La, Ortigas, Mandaluyong City</td>\n",
       "      <td>Edsa Shangri-La, Ortigas, Mandaluyong City, Ma...</td>\n",
       "      <td>121.056831</td>\n",
       "      <td>14.581404</td>\n",
       "      <td>Seafood, Asian, Filipino, Indian</td>\n",
       "      <td>4000</td>\n",
       "      <td>Botswana Pula(P)</td>\n",
       "      <td>Yes</td>\n",
       "      <td>No</td>\n",
       "      <td>No</td>\n",
       "      <td>No</td>\n",
       "      <td>4</td>\n",
       "      <td>4.4</td>\n",
       "      <td>Green</td>\n",
       "      <td>Very Good</td>\n",
       "      <td>270</td>\n",
       "    </tr>\n",
       "    <tr>\n",
       "      <th>3</th>\n",
       "      <td>6318506</td>\n",
       "      <td>Ooma</td>\n",
       "      <td>162</td>\n",
       "      <td>Mandaluyong City</td>\n",
       "      <td>Third Floor, Mega Fashion Hall, SM Megamall, O...</td>\n",
       "      <td>SM Megamall, Ortigas, Mandaluyong City</td>\n",
       "      <td>SM Megamall, Ortigas, Mandaluyong City, Mandal...</td>\n",
       "      <td>121.056475</td>\n",
       "      <td>14.585318</td>\n",
       "      <td>Japanese, Sushi</td>\n",
       "      <td>1500</td>\n",
       "      <td>Botswana Pula(P)</td>\n",
       "      <td>No</td>\n",
       "      <td>No</td>\n",
       "      <td>No</td>\n",
       "      <td>No</td>\n",
       "      <td>4</td>\n",
       "      <td>4.9</td>\n",
       "      <td>Dark Green</td>\n",
       "      <td>Excellent</td>\n",
       "      <td>365</td>\n",
       "    </tr>\n",
       "    <tr>\n",
       "      <th>4</th>\n",
       "      <td>6314302</td>\n",
       "      <td>Sambo Kojin</td>\n",
       "      <td>162</td>\n",
       "      <td>Mandaluyong City</td>\n",
       "      <td>Third Floor, Mega Atrium, SM Megamall, Ortigas...</td>\n",
       "      <td>SM Megamall, Ortigas, Mandaluyong City</td>\n",
       "      <td>SM Megamall, Ortigas, Mandaluyong City, Mandal...</td>\n",
       "      <td>121.057508</td>\n",
       "      <td>14.584450</td>\n",
       "      <td>Japanese, Korean</td>\n",
       "      <td>1500</td>\n",
       "      <td>Botswana Pula(P)</td>\n",
       "      <td>Yes</td>\n",
       "      <td>No</td>\n",
       "      <td>No</td>\n",
       "      <td>No</td>\n",
       "      <td>4</td>\n",
       "      <td>4.8</td>\n",
       "      <td>Dark Green</td>\n",
       "      <td>Excellent</td>\n",
       "      <td>229</td>\n",
       "    </tr>\n",
       "  </tbody>\n",
       "</table>\n",
       "</div>"
      ],
      "text/plain": [
       "   Restaurant ID         Restaurant Name  Country Code              City  \\\n",
       "0        6317637        Le Petit Souffle           162       Makati City   \n",
       "1        6304287        Izakaya Kikufuji           162       Makati City   \n",
       "2        6300002  Heat - Edsa Shangri-La           162  Mandaluyong City   \n",
       "3        6318506                    Ooma           162  Mandaluyong City   \n",
       "4        6314302             Sambo Kojin           162  Mandaluyong City   \n",
       "\n",
       "                                             Address  \\\n",
       "0  Third Floor, Century City Mall, Kalayaan Avenu...   \n",
       "1  Little Tokyo, 2277 Chino Roces Avenue, Legaspi...   \n",
       "2  Edsa Shangri-La, 1 Garden Way, Ortigas, Mandal...   \n",
       "3  Third Floor, Mega Fashion Hall, SM Megamall, O...   \n",
       "4  Third Floor, Mega Atrium, SM Megamall, Ortigas...   \n",
       "\n",
       "                                     Locality  \\\n",
       "0   Century City Mall, Poblacion, Makati City   \n",
       "1  Little Tokyo, Legaspi Village, Makati City   \n",
       "2  Edsa Shangri-La, Ortigas, Mandaluyong City   \n",
       "3      SM Megamall, Ortigas, Mandaluyong City   \n",
       "4      SM Megamall, Ortigas, Mandaluyong City   \n",
       "\n",
       "                                    Locality Verbose   Longitude   Latitude  \\\n",
       "0  Century City Mall, Poblacion, Makati City, Mak...  121.027535  14.565443   \n",
       "1  Little Tokyo, Legaspi Village, Makati City, Ma...  121.014101  14.553708   \n",
       "2  Edsa Shangri-La, Ortigas, Mandaluyong City, Ma...  121.056831  14.581404   \n",
       "3  SM Megamall, Ortigas, Mandaluyong City, Mandal...  121.056475  14.585318   \n",
       "4  SM Megamall, Ortigas, Mandaluyong City, Mandal...  121.057508  14.584450   \n",
       "\n",
       "                           Cuisines  Average Cost for two          Currency  \\\n",
       "0        French, Japanese, Desserts                  1100  Botswana Pula(P)   \n",
       "1                          Japanese                  1200  Botswana Pula(P)   \n",
       "2  Seafood, Asian, Filipino, Indian                  4000  Botswana Pula(P)   \n",
       "3                   Japanese, Sushi                  1500  Botswana Pula(P)   \n",
       "4                  Japanese, Korean                  1500  Botswana Pula(P)   \n",
       "\n",
       "  Has Table booking Has Online delivery Is delivering now  \\\n",
       "0               Yes                  No                No   \n",
       "1               Yes                  No                No   \n",
       "2               Yes                  No                No   \n",
       "3                No                  No                No   \n",
       "4               Yes                  No                No   \n",
       "\n",
       "  Switch to order menu  Price range  Aggregate rating Rating color  \\\n",
       "0                   No            3               4.8   Dark Green   \n",
       "1                   No            3               4.5   Dark Green   \n",
       "2                   No            4               4.4        Green   \n",
       "3                   No            4               4.9   Dark Green   \n",
       "4                   No            4               4.8   Dark Green   \n",
       "\n",
       "  Rating text  Votes  \n",
       "0   Excellent    314  \n",
       "1   Excellent    591  \n",
       "2   Very Good    270  \n",
       "3   Excellent    365  \n",
       "4   Excellent    229  "
      ]
     },
     "execution_count": 5,
     "metadata": {},
     "output_type": "execute_result"
    }
   ],
   "source": [
    "df0.head()"
   ]
  },
  {
   "cell_type": "code",
   "execution_count": 6,
   "id": "85ec62e7",
   "metadata": {
    "execution": {
     "iopub.execute_input": "2022-10-19T09:33:44.333439Z",
     "iopub.status.busy": "2022-10-19T09:33:44.333039Z",
     "iopub.status.idle": "2022-10-19T09:33:44.340468Z",
     "shell.execute_reply": "2022-10-19T09:33:44.339088Z"
    },
    "papermill": {
     "duration": 0.018947,
     "end_time": "2022-10-19T09:33:44.343236",
     "exception": false,
     "start_time": "2022-10-19T09:33:44.324289",
     "status": "completed"
    },
    "tags": []
   },
   "outputs": [
    {
     "data": {
      "text/plain": [
       "(9551, 21)"
      ]
     },
     "execution_count": 6,
     "metadata": {},
     "output_type": "execute_result"
    }
   ],
   "source": [
    "df0.shape"
   ]
  },
  {
   "cell_type": "code",
   "execution_count": 7,
   "id": "5fbd988f",
   "metadata": {
    "execution": {
     "iopub.execute_input": "2022-10-19T09:33:44.360192Z",
     "iopub.status.busy": "2022-10-19T09:33:44.359777Z",
     "iopub.status.idle": "2022-10-19T09:33:44.365884Z",
     "shell.execute_reply": "2022-10-19T09:33:44.365009Z"
    },
    "papermill": {
     "duration": 0.016734,
     "end_time": "2022-10-19T09:33:44.367519",
     "exception": false,
     "start_time": "2022-10-19T09:33:44.350785",
     "status": "completed"
    },
    "tags": []
   },
   "outputs": [
    {
     "data": {
      "text/plain": [
       "Index(['Restaurant ID', 'Restaurant Name', 'Country Code', 'City', 'Address',\n",
       "       'Locality', 'Locality Verbose', 'Longitude', 'Latitude', 'Cuisines',\n",
       "       'Average Cost for two', 'Currency', 'Has Table booking',\n",
       "       'Has Online delivery', 'Is delivering now', 'Switch to order menu',\n",
       "       'Price range', 'Aggregate rating', 'Rating color', 'Rating text',\n",
       "       'Votes'],\n",
       "      dtype='object')"
      ]
     },
     "execution_count": 7,
     "metadata": {},
     "output_type": "execute_result"
    }
   ],
   "source": [
    "df0.columns"
   ]
  },
  {
   "cell_type": "code",
   "execution_count": 8,
   "id": "d1601d3e",
   "metadata": {
    "execution": {
     "iopub.execute_input": "2022-10-19T09:33:44.383393Z",
     "iopub.status.busy": "2022-10-19T09:33:44.382991Z",
     "iopub.status.idle": "2022-10-19T09:33:44.395087Z",
     "shell.execute_reply": "2022-10-19T09:33:44.393510Z"
    },
    "papermill": {
     "duration": 0.022579,
     "end_time": "2022-10-19T09:33:44.397338",
     "exception": false,
     "start_time": "2022-10-19T09:33:44.374759",
     "status": "completed"
    },
    "tags": []
   },
   "outputs": [
    {
     "data": {
      "text/html": [
       "<div>\n",
       "<style scoped>\n",
       "    .dataframe tbody tr th:only-of-type {\n",
       "        vertical-align: middle;\n",
       "    }\n",
       "\n",
       "    .dataframe tbody tr th {\n",
       "        vertical-align: top;\n",
       "    }\n",
       "\n",
       "    .dataframe thead th {\n",
       "        text-align: right;\n",
       "    }\n",
       "</style>\n",
       "<table border=\"1\" class=\"dataframe\">\n",
       "  <thead>\n",
       "    <tr style=\"text-align: right;\">\n",
       "      <th></th>\n",
       "      <th>Country Code</th>\n",
       "      <th>Country</th>\n",
       "    </tr>\n",
       "  </thead>\n",
       "  <tbody>\n",
       "    <tr>\n",
       "      <th>0</th>\n",
       "      <td>1</td>\n",
       "      <td>India</td>\n",
       "    </tr>\n",
       "    <tr>\n",
       "      <th>1</th>\n",
       "      <td>14</td>\n",
       "      <td>Australia</td>\n",
       "    </tr>\n",
       "    <tr>\n",
       "      <th>2</th>\n",
       "      <td>30</td>\n",
       "      <td>Brazil</td>\n",
       "    </tr>\n",
       "    <tr>\n",
       "      <th>3</th>\n",
       "      <td>37</td>\n",
       "      <td>Canada</td>\n",
       "    </tr>\n",
       "    <tr>\n",
       "      <th>4</th>\n",
       "      <td>94</td>\n",
       "      <td>Indonesia</td>\n",
       "    </tr>\n",
       "    <tr>\n",
       "      <th>5</th>\n",
       "      <td>148</td>\n",
       "      <td>New Zealand</td>\n",
       "    </tr>\n",
       "    <tr>\n",
       "      <th>6</th>\n",
       "      <td>162</td>\n",
       "      <td>Phillipines</td>\n",
       "    </tr>\n",
       "    <tr>\n",
       "      <th>7</th>\n",
       "      <td>166</td>\n",
       "      <td>Qatar</td>\n",
       "    </tr>\n",
       "    <tr>\n",
       "      <th>8</th>\n",
       "      <td>184</td>\n",
       "      <td>Singapore</td>\n",
       "    </tr>\n",
       "    <tr>\n",
       "      <th>9</th>\n",
       "      <td>189</td>\n",
       "      <td>South Africa</td>\n",
       "    </tr>\n",
       "    <tr>\n",
       "      <th>10</th>\n",
       "      <td>191</td>\n",
       "      <td>Sri Lanka</td>\n",
       "    </tr>\n",
       "    <tr>\n",
       "      <th>11</th>\n",
       "      <td>208</td>\n",
       "      <td>Turkey</td>\n",
       "    </tr>\n",
       "    <tr>\n",
       "      <th>12</th>\n",
       "      <td>214</td>\n",
       "      <td>UAE</td>\n",
       "    </tr>\n",
       "    <tr>\n",
       "      <th>13</th>\n",
       "      <td>215</td>\n",
       "      <td>United Kingdom</td>\n",
       "    </tr>\n",
       "    <tr>\n",
       "      <th>14</th>\n",
       "      <td>216</td>\n",
       "      <td>United States</td>\n",
       "    </tr>\n",
       "  </tbody>\n",
       "</table>\n",
       "</div>"
      ],
      "text/plain": [
       "    Country Code         Country\n",
       "0              1           India\n",
       "1             14       Australia\n",
       "2             30          Brazil\n",
       "3             37          Canada\n",
       "4             94       Indonesia\n",
       "5            148     New Zealand\n",
       "6            162     Phillipines\n",
       "7            166           Qatar\n",
       "8            184       Singapore\n",
       "9            189    South Africa\n",
       "10           191       Sri Lanka\n",
       "11           208          Turkey\n",
       "12           214             UAE\n",
       "13           215  United Kingdom\n",
       "14           216   United States"
      ]
     },
     "execution_count": 8,
     "metadata": {},
     "output_type": "execute_result"
    }
   ],
   "source": [
    "df1"
   ]
  },
  {
   "cell_type": "code",
   "execution_count": 9,
   "id": "e73e4cb3",
   "metadata": {
    "execution": {
     "iopub.execute_input": "2022-10-19T09:33:44.414086Z",
     "iopub.status.busy": "2022-10-19T09:33:44.413666Z",
     "iopub.status.idle": "2022-10-19T09:33:44.453118Z",
     "shell.execute_reply": "2022-10-19T09:33:44.452292Z"
    },
    "papermill": {
     "duration": 0.050826,
     "end_time": "2022-10-19T09:33:44.455705",
     "exception": false,
     "start_time": "2022-10-19T09:33:44.404879",
     "status": "completed"
    },
    "tags": []
   },
   "outputs": [],
   "source": [
    "# merginng both dataframes on country code\n",
    "\n",
    "data = pd.merge(left=df0,right=df1,how='left',on='Country Code')"
   ]
  },
  {
   "cell_type": "code",
   "execution_count": 10,
   "id": "4d2c5f8d",
   "metadata": {
    "execution": {
     "iopub.execute_input": "2022-10-19T09:33:44.472257Z",
     "iopub.status.busy": "2022-10-19T09:33:44.471867Z",
     "iopub.status.idle": "2022-10-19T09:33:44.493773Z",
     "shell.execute_reply": "2022-10-19T09:33:44.492891Z"
    },
    "papermill": {
     "duration": 0.033033,
     "end_time": "2022-10-19T09:33:44.496373",
     "exception": false,
     "start_time": "2022-10-19T09:33:44.463340",
     "status": "completed"
    },
    "tags": []
   },
   "outputs": [
    {
     "data": {
      "text/html": [
       "<div>\n",
       "<style scoped>\n",
       "    .dataframe tbody tr th:only-of-type {\n",
       "        vertical-align: middle;\n",
       "    }\n",
       "\n",
       "    .dataframe tbody tr th {\n",
       "        vertical-align: top;\n",
       "    }\n",
       "\n",
       "    .dataframe thead th {\n",
       "        text-align: right;\n",
       "    }\n",
       "</style>\n",
       "<table border=\"1\" class=\"dataframe\">\n",
       "  <thead>\n",
       "    <tr style=\"text-align: right;\">\n",
       "      <th></th>\n",
       "      <th>Restaurant ID</th>\n",
       "      <th>Restaurant Name</th>\n",
       "      <th>Country Code</th>\n",
       "      <th>City</th>\n",
       "      <th>Address</th>\n",
       "      <th>Locality</th>\n",
       "      <th>Locality Verbose</th>\n",
       "      <th>Longitude</th>\n",
       "      <th>Latitude</th>\n",
       "      <th>Cuisines</th>\n",
       "      <th>Average Cost for two</th>\n",
       "      <th>Currency</th>\n",
       "      <th>Has Table booking</th>\n",
       "      <th>Has Online delivery</th>\n",
       "      <th>Is delivering now</th>\n",
       "      <th>Switch to order menu</th>\n",
       "      <th>Price range</th>\n",
       "      <th>Aggregate rating</th>\n",
       "      <th>Rating color</th>\n",
       "      <th>Rating text</th>\n",
       "      <th>Votes</th>\n",
       "      <th>Country</th>\n",
       "    </tr>\n",
       "  </thead>\n",
       "  <tbody>\n",
       "    <tr>\n",
       "      <th>0</th>\n",
       "      <td>6317637</td>\n",
       "      <td>Le Petit Souffle</td>\n",
       "      <td>162</td>\n",
       "      <td>Makati City</td>\n",
       "      <td>Third Floor, Century City Mall, Kalayaan Avenu...</td>\n",
       "      <td>Century City Mall, Poblacion, Makati City</td>\n",
       "      <td>Century City Mall, Poblacion, Makati City, Mak...</td>\n",
       "      <td>121.027535</td>\n",
       "      <td>14.565443</td>\n",
       "      <td>French, Japanese, Desserts</td>\n",
       "      <td>1100</td>\n",
       "      <td>Botswana Pula(P)</td>\n",
       "      <td>Yes</td>\n",
       "      <td>No</td>\n",
       "      <td>No</td>\n",
       "      <td>No</td>\n",
       "      <td>3</td>\n",
       "      <td>4.8</td>\n",
       "      <td>Dark Green</td>\n",
       "      <td>Excellent</td>\n",
       "      <td>314</td>\n",
       "      <td>Phillipines</td>\n",
       "    </tr>\n",
       "    <tr>\n",
       "      <th>1</th>\n",
       "      <td>6304287</td>\n",
       "      <td>Izakaya Kikufuji</td>\n",
       "      <td>162</td>\n",
       "      <td>Makati City</td>\n",
       "      <td>Little Tokyo, 2277 Chino Roces Avenue, Legaspi...</td>\n",
       "      <td>Little Tokyo, Legaspi Village, Makati City</td>\n",
       "      <td>Little Tokyo, Legaspi Village, Makati City, Ma...</td>\n",
       "      <td>121.014101</td>\n",
       "      <td>14.553708</td>\n",
       "      <td>Japanese</td>\n",
       "      <td>1200</td>\n",
       "      <td>Botswana Pula(P)</td>\n",
       "      <td>Yes</td>\n",
       "      <td>No</td>\n",
       "      <td>No</td>\n",
       "      <td>No</td>\n",
       "      <td>3</td>\n",
       "      <td>4.5</td>\n",
       "      <td>Dark Green</td>\n",
       "      <td>Excellent</td>\n",
       "      <td>591</td>\n",
       "      <td>Phillipines</td>\n",
       "    </tr>\n",
       "    <tr>\n",
       "      <th>2</th>\n",
       "      <td>6300002</td>\n",
       "      <td>Heat - Edsa Shangri-La</td>\n",
       "      <td>162</td>\n",
       "      <td>Mandaluyong City</td>\n",
       "      <td>Edsa Shangri-La, 1 Garden Way, Ortigas, Mandal...</td>\n",
       "      <td>Edsa Shangri-La, Ortigas, Mandaluyong City</td>\n",
       "      <td>Edsa Shangri-La, Ortigas, Mandaluyong City, Ma...</td>\n",
       "      <td>121.056831</td>\n",
       "      <td>14.581404</td>\n",
       "      <td>Seafood, Asian, Filipino, Indian</td>\n",
       "      <td>4000</td>\n",
       "      <td>Botswana Pula(P)</td>\n",
       "      <td>Yes</td>\n",
       "      <td>No</td>\n",
       "      <td>No</td>\n",
       "      <td>No</td>\n",
       "      <td>4</td>\n",
       "      <td>4.4</td>\n",
       "      <td>Green</td>\n",
       "      <td>Very Good</td>\n",
       "      <td>270</td>\n",
       "      <td>Phillipines</td>\n",
       "    </tr>\n",
       "    <tr>\n",
       "      <th>3</th>\n",
       "      <td>6318506</td>\n",
       "      <td>Ooma</td>\n",
       "      <td>162</td>\n",
       "      <td>Mandaluyong City</td>\n",
       "      <td>Third Floor, Mega Fashion Hall, SM Megamall, O...</td>\n",
       "      <td>SM Megamall, Ortigas, Mandaluyong City</td>\n",
       "      <td>SM Megamall, Ortigas, Mandaluyong City, Mandal...</td>\n",
       "      <td>121.056475</td>\n",
       "      <td>14.585318</td>\n",
       "      <td>Japanese, Sushi</td>\n",
       "      <td>1500</td>\n",
       "      <td>Botswana Pula(P)</td>\n",
       "      <td>No</td>\n",
       "      <td>No</td>\n",
       "      <td>No</td>\n",
       "      <td>No</td>\n",
       "      <td>4</td>\n",
       "      <td>4.9</td>\n",
       "      <td>Dark Green</td>\n",
       "      <td>Excellent</td>\n",
       "      <td>365</td>\n",
       "      <td>Phillipines</td>\n",
       "    </tr>\n",
       "    <tr>\n",
       "      <th>4</th>\n",
       "      <td>6314302</td>\n",
       "      <td>Sambo Kojin</td>\n",
       "      <td>162</td>\n",
       "      <td>Mandaluyong City</td>\n",
       "      <td>Third Floor, Mega Atrium, SM Megamall, Ortigas...</td>\n",
       "      <td>SM Megamall, Ortigas, Mandaluyong City</td>\n",
       "      <td>SM Megamall, Ortigas, Mandaluyong City, Mandal...</td>\n",
       "      <td>121.057508</td>\n",
       "      <td>14.584450</td>\n",
       "      <td>Japanese, Korean</td>\n",
       "      <td>1500</td>\n",
       "      <td>Botswana Pula(P)</td>\n",
       "      <td>Yes</td>\n",
       "      <td>No</td>\n",
       "      <td>No</td>\n",
       "      <td>No</td>\n",
       "      <td>4</td>\n",
       "      <td>4.8</td>\n",
       "      <td>Dark Green</td>\n",
       "      <td>Excellent</td>\n",
       "      <td>229</td>\n",
       "      <td>Phillipines</td>\n",
       "    </tr>\n",
       "  </tbody>\n",
       "</table>\n",
       "</div>"
      ],
      "text/plain": [
       "   Restaurant ID         Restaurant Name  Country Code              City  \\\n",
       "0        6317637        Le Petit Souffle           162       Makati City   \n",
       "1        6304287        Izakaya Kikufuji           162       Makati City   \n",
       "2        6300002  Heat - Edsa Shangri-La           162  Mandaluyong City   \n",
       "3        6318506                    Ooma           162  Mandaluyong City   \n",
       "4        6314302             Sambo Kojin           162  Mandaluyong City   \n",
       "\n",
       "                                             Address  \\\n",
       "0  Third Floor, Century City Mall, Kalayaan Avenu...   \n",
       "1  Little Tokyo, 2277 Chino Roces Avenue, Legaspi...   \n",
       "2  Edsa Shangri-La, 1 Garden Way, Ortigas, Mandal...   \n",
       "3  Third Floor, Mega Fashion Hall, SM Megamall, O...   \n",
       "4  Third Floor, Mega Atrium, SM Megamall, Ortigas...   \n",
       "\n",
       "                                     Locality  \\\n",
       "0   Century City Mall, Poblacion, Makati City   \n",
       "1  Little Tokyo, Legaspi Village, Makati City   \n",
       "2  Edsa Shangri-La, Ortigas, Mandaluyong City   \n",
       "3      SM Megamall, Ortigas, Mandaluyong City   \n",
       "4      SM Megamall, Ortigas, Mandaluyong City   \n",
       "\n",
       "                                    Locality Verbose   Longitude   Latitude  \\\n",
       "0  Century City Mall, Poblacion, Makati City, Mak...  121.027535  14.565443   \n",
       "1  Little Tokyo, Legaspi Village, Makati City, Ma...  121.014101  14.553708   \n",
       "2  Edsa Shangri-La, Ortigas, Mandaluyong City, Ma...  121.056831  14.581404   \n",
       "3  SM Megamall, Ortigas, Mandaluyong City, Mandal...  121.056475  14.585318   \n",
       "4  SM Megamall, Ortigas, Mandaluyong City, Mandal...  121.057508  14.584450   \n",
       "\n",
       "                           Cuisines  Average Cost for two          Currency  \\\n",
       "0        French, Japanese, Desserts                  1100  Botswana Pula(P)   \n",
       "1                          Japanese                  1200  Botswana Pula(P)   \n",
       "2  Seafood, Asian, Filipino, Indian                  4000  Botswana Pula(P)   \n",
       "3                   Japanese, Sushi                  1500  Botswana Pula(P)   \n",
       "4                  Japanese, Korean                  1500  Botswana Pula(P)   \n",
       "\n",
       "  Has Table booking Has Online delivery Is delivering now  \\\n",
       "0               Yes                  No                No   \n",
       "1               Yes                  No                No   \n",
       "2               Yes                  No                No   \n",
       "3                No                  No                No   \n",
       "4               Yes                  No                No   \n",
       "\n",
       "  Switch to order menu  Price range  Aggregate rating Rating color  \\\n",
       "0                   No            3               4.8   Dark Green   \n",
       "1                   No            3               4.5   Dark Green   \n",
       "2                   No            4               4.4        Green   \n",
       "3                   No            4               4.9   Dark Green   \n",
       "4                   No            4               4.8   Dark Green   \n",
       "\n",
       "  Rating text  Votes      Country  \n",
       "0   Excellent    314  Phillipines  \n",
       "1   Excellent    591  Phillipines  \n",
       "2   Very Good    270  Phillipines  \n",
       "3   Excellent    365  Phillipines  \n",
       "4   Excellent    229  Phillipines  "
      ]
     },
     "execution_count": 10,
     "metadata": {},
     "output_type": "execute_result"
    }
   ],
   "source": [
    "data.head()"
   ]
  },
  {
   "cell_type": "code",
   "execution_count": 11,
   "id": "01d13117",
   "metadata": {
    "execution": {
     "iopub.execute_input": "2022-10-19T09:33:44.516298Z",
     "iopub.status.busy": "2022-10-19T09:33:44.515925Z",
     "iopub.status.idle": "2022-10-19T09:33:44.521470Z",
     "shell.execute_reply": "2022-10-19T09:33:44.520618Z"
    },
    "papermill": {
     "duration": 0.017179,
     "end_time": "2022-10-19T09:33:44.523169",
     "exception": false,
     "start_time": "2022-10-19T09:33:44.505990",
     "status": "completed"
    },
    "tags": []
   },
   "outputs": [
    {
     "data": {
      "text/plain": [
       "(9551, 22)"
      ]
     },
     "execution_count": 11,
     "metadata": {},
     "output_type": "execute_result"
    }
   ],
   "source": [
    "data.shape"
   ]
  },
  {
   "cell_type": "code",
   "execution_count": 12,
   "id": "328f2fb6",
   "metadata": {
    "execution": {
     "iopub.execute_input": "2022-10-19T09:33:44.540882Z",
     "iopub.status.busy": "2022-10-19T09:33:44.540205Z",
     "iopub.status.idle": "2022-10-19T09:33:44.550792Z",
     "shell.execute_reply": "2022-10-19T09:33:44.549627Z"
    },
    "papermill": {
     "duration": 0.022164,
     "end_time": "2022-10-19T09:33:44.553212",
     "exception": false,
     "start_time": "2022-10-19T09:33:44.531048",
     "status": "completed"
    },
    "tags": []
   },
   "outputs": [],
   "source": [
    "# Dropping columns that are not useful.\n",
    "# Currency for average price column is not given. Hence dropping the average price columnn\n",
    "data.drop(columns=['Restaurant ID','Country Code','Address','Locality','Locality Verbose','Latitude','Longitude','Average Cost for two'],inplace=True)"
   ]
  },
  {
   "cell_type": "code",
   "execution_count": 13,
   "id": "b23b6b5b",
   "metadata": {
    "execution": {
     "iopub.execute_input": "2022-10-19T09:33:44.571728Z",
     "iopub.status.busy": "2022-10-19T09:33:44.570648Z",
     "iopub.status.idle": "2022-10-19T09:33:44.587992Z",
     "shell.execute_reply": "2022-10-19T09:33:44.587211Z"
    },
    "papermill": {
     "duration": 0.028721,
     "end_time": "2022-10-19T09:33:44.590012",
     "exception": false,
     "start_time": "2022-10-19T09:33:44.561291",
     "status": "completed"
    },
    "tags": []
   },
   "outputs": [
    {
     "data": {
      "text/html": [
       "<div>\n",
       "<style scoped>\n",
       "    .dataframe tbody tr th:only-of-type {\n",
       "        vertical-align: middle;\n",
       "    }\n",
       "\n",
       "    .dataframe tbody tr th {\n",
       "        vertical-align: top;\n",
       "    }\n",
       "\n",
       "    .dataframe thead th {\n",
       "        text-align: right;\n",
       "    }\n",
       "</style>\n",
       "<table border=\"1\" class=\"dataframe\">\n",
       "  <thead>\n",
       "    <tr style=\"text-align: right;\">\n",
       "      <th></th>\n",
       "      <th>Restaurant Name</th>\n",
       "      <th>City</th>\n",
       "      <th>Cuisines</th>\n",
       "      <th>Currency</th>\n",
       "      <th>Has Table booking</th>\n",
       "      <th>Has Online delivery</th>\n",
       "      <th>Is delivering now</th>\n",
       "      <th>Switch to order menu</th>\n",
       "      <th>Price range</th>\n",
       "      <th>Aggregate rating</th>\n",
       "      <th>Rating color</th>\n",
       "      <th>Rating text</th>\n",
       "      <th>Votes</th>\n",
       "      <th>Country</th>\n",
       "    </tr>\n",
       "  </thead>\n",
       "  <tbody>\n",
       "    <tr>\n",
       "      <th>0</th>\n",
       "      <td>Le Petit Souffle</td>\n",
       "      <td>Makati City</td>\n",
       "      <td>French, Japanese, Desserts</td>\n",
       "      <td>Botswana Pula(P)</td>\n",
       "      <td>Yes</td>\n",
       "      <td>No</td>\n",
       "      <td>No</td>\n",
       "      <td>No</td>\n",
       "      <td>3</td>\n",
       "      <td>4.8</td>\n",
       "      <td>Dark Green</td>\n",
       "      <td>Excellent</td>\n",
       "      <td>314</td>\n",
       "      <td>Phillipines</td>\n",
       "    </tr>\n",
       "    <tr>\n",
       "      <th>1</th>\n",
       "      <td>Izakaya Kikufuji</td>\n",
       "      <td>Makati City</td>\n",
       "      <td>Japanese</td>\n",
       "      <td>Botswana Pula(P)</td>\n",
       "      <td>Yes</td>\n",
       "      <td>No</td>\n",
       "      <td>No</td>\n",
       "      <td>No</td>\n",
       "      <td>3</td>\n",
       "      <td>4.5</td>\n",
       "      <td>Dark Green</td>\n",
       "      <td>Excellent</td>\n",
       "      <td>591</td>\n",
       "      <td>Phillipines</td>\n",
       "    </tr>\n",
       "    <tr>\n",
       "      <th>2</th>\n",
       "      <td>Heat - Edsa Shangri-La</td>\n",
       "      <td>Mandaluyong City</td>\n",
       "      <td>Seafood, Asian, Filipino, Indian</td>\n",
       "      <td>Botswana Pula(P)</td>\n",
       "      <td>Yes</td>\n",
       "      <td>No</td>\n",
       "      <td>No</td>\n",
       "      <td>No</td>\n",
       "      <td>4</td>\n",
       "      <td>4.4</td>\n",
       "      <td>Green</td>\n",
       "      <td>Very Good</td>\n",
       "      <td>270</td>\n",
       "      <td>Phillipines</td>\n",
       "    </tr>\n",
       "    <tr>\n",
       "      <th>3</th>\n",
       "      <td>Ooma</td>\n",
       "      <td>Mandaluyong City</td>\n",
       "      <td>Japanese, Sushi</td>\n",
       "      <td>Botswana Pula(P)</td>\n",
       "      <td>No</td>\n",
       "      <td>No</td>\n",
       "      <td>No</td>\n",
       "      <td>No</td>\n",
       "      <td>4</td>\n",
       "      <td>4.9</td>\n",
       "      <td>Dark Green</td>\n",
       "      <td>Excellent</td>\n",
       "      <td>365</td>\n",
       "      <td>Phillipines</td>\n",
       "    </tr>\n",
       "    <tr>\n",
       "      <th>4</th>\n",
       "      <td>Sambo Kojin</td>\n",
       "      <td>Mandaluyong City</td>\n",
       "      <td>Japanese, Korean</td>\n",
       "      <td>Botswana Pula(P)</td>\n",
       "      <td>Yes</td>\n",
       "      <td>No</td>\n",
       "      <td>No</td>\n",
       "      <td>No</td>\n",
       "      <td>4</td>\n",
       "      <td>4.8</td>\n",
       "      <td>Dark Green</td>\n",
       "      <td>Excellent</td>\n",
       "      <td>229</td>\n",
       "      <td>Phillipines</td>\n",
       "    </tr>\n",
       "  </tbody>\n",
       "</table>\n",
       "</div>"
      ],
      "text/plain": [
       "          Restaurant Name              City                          Cuisines  \\\n",
       "0        Le Petit Souffle       Makati City        French, Japanese, Desserts   \n",
       "1        Izakaya Kikufuji       Makati City                          Japanese   \n",
       "2  Heat - Edsa Shangri-La  Mandaluyong City  Seafood, Asian, Filipino, Indian   \n",
       "3                    Ooma  Mandaluyong City                   Japanese, Sushi   \n",
       "4             Sambo Kojin  Mandaluyong City                  Japanese, Korean   \n",
       "\n",
       "           Currency Has Table booking Has Online delivery Is delivering now  \\\n",
       "0  Botswana Pula(P)               Yes                  No                No   \n",
       "1  Botswana Pula(P)               Yes                  No                No   \n",
       "2  Botswana Pula(P)               Yes                  No                No   \n",
       "3  Botswana Pula(P)                No                  No                No   \n",
       "4  Botswana Pula(P)               Yes                  No                No   \n",
       "\n",
       "  Switch to order menu  Price range  Aggregate rating Rating color  \\\n",
       "0                   No            3               4.8   Dark Green   \n",
       "1                   No            3               4.5   Dark Green   \n",
       "2                   No            4               4.4        Green   \n",
       "3                   No            4               4.9   Dark Green   \n",
       "4                   No            4               4.8   Dark Green   \n",
       "\n",
       "  Rating text  Votes      Country  \n",
       "0   Excellent    314  Phillipines  \n",
       "1   Excellent    591  Phillipines  \n",
       "2   Very Good    270  Phillipines  \n",
       "3   Excellent    365  Phillipines  \n",
       "4   Excellent    229  Phillipines  "
      ]
     },
     "execution_count": 13,
     "metadata": {},
     "output_type": "execute_result"
    }
   ],
   "source": [
    "data.head()"
   ]
  },
  {
   "cell_type": "code",
   "execution_count": 14,
   "id": "f46fe3ce",
   "metadata": {
    "execution": {
     "iopub.execute_input": "2022-10-19T09:33:44.609019Z",
     "iopub.status.busy": "2022-10-19T09:33:44.608457Z",
     "iopub.status.idle": "2022-10-19T09:33:44.614665Z",
     "shell.execute_reply": "2022-10-19T09:33:44.613863Z"
    },
    "papermill": {
     "duration": 0.018329,
     "end_time": "2022-10-19T09:33:44.616889",
     "exception": false,
     "start_time": "2022-10-19T09:33:44.598560",
     "status": "completed"
    },
    "tags": []
   },
   "outputs": [],
   "source": [
    "# Reordering columns\n",
    "\n",
    "data = data.reindex(columns=['Restaurant Name', 'Country' ,'City', 'Currency','Price range', \n",
    "                     'Cuisines', 'Has Table booking', 'Has Online delivery',\n",
    "       'Is delivering now', 'Switch to order menu' ,'Aggregate rating', 'Rating color', 'Rating text', 'Votes'],)"
   ]
  },
  {
   "cell_type": "code",
   "execution_count": 15,
   "id": "b19f8d2e",
   "metadata": {
    "execution": {
     "iopub.execute_input": "2022-10-19T09:33:44.636150Z",
     "iopub.status.busy": "2022-10-19T09:33:44.635747Z",
     "iopub.status.idle": "2022-10-19T09:33:44.660589Z",
     "shell.execute_reply": "2022-10-19T09:33:44.658879Z"
    },
    "papermill": {
     "duration": 0.037341,
     "end_time": "2022-10-19T09:33:44.662889",
     "exception": false,
     "start_time": "2022-10-19T09:33:44.625548",
     "status": "completed"
    },
    "tags": []
   },
   "outputs": [
    {
     "name": "stdout",
     "output_type": "stream",
     "text": [
      "<class 'pandas.core.frame.DataFrame'>\n",
      "Int64Index: 9551 entries, 0 to 9550\n",
      "Data columns (total 14 columns):\n",
      " #   Column                Non-Null Count  Dtype  \n",
      "---  ------                --------------  -----  \n",
      " 0   Restaurant Name       9551 non-null   object \n",
      " 1   Country               9551 non-null   object \n",
      " 2   City                  9551 non-null   object \n",
      " 3   Currency              9551 non-null   object \n",
      " 4   Price range           9551 non-null   int64  \n",
      " 5   Cuisines              9542 non-null   object \n",
      " 6   Has Table booking     9551 non-null   object \n",
      " 7   Has Online delivery   9551 non-null   object \n",
      " 8   Is delivering now     9551 non-null   object \n",
      " 9   Switch to order menu  9551 non-null   object \n",
      " 10  Aggregate rating      9551 non-null   float64\n",
      " 11  Rating color          9551 non-null   object \n",
      " 12  Rating text           9551 non-null   object \n",
      " 13  Votes                 9551 non-null   int64  \n",
      "dtypes: float64(1), int64(2), object(11)\n",
      "memory usage: 1.1+ MB\n"
     ]
    }
   ],
   "source": [
    "data.info()"
   ]
  },
  {
   "cell_type": "markdown",
   "id": "1b9d0d76",
   "metadata": {
    "papermill": {
     "duration": 0.007851,
     "end_time": "2022-10-19T09:33:44.679454",
     "exception": false,
     "start_time": "2022-10-19T09:33:44.671603",
     "status": "completed"
    },
    "tags": []
   },
   "source": [
    "- Price range column has values ranging from 1 to 4. Changing the data type to str for ease of analysis. "
   ]
  },
  {
   "cell_type": "code",
   "execution_count": 16,
   "id": "1e2b7728",
   "metadata": {
    "execution": {
     "iopub.execute_input": "2022-10-19T09:33:44.697413Z",
     "iopub.status.busy": "2022-10-19T09:33:44.697062Z",
     "iopub.status.idle": "2022-10-19T09:33:44.707281Z",
     "shell.execute_reply": "2022-10-19T09:33:44.706189Z"
    },
    "papermill": {
     "duration": 0.021941,
     "end_time": "2022-10-19T09:33:44.709517",
     "exception": false,
     "start_time": "2022-10-19T09:33:44.687576",
     "status": "completed"
    },
    "tags": []
   },
   "outputs": [],
   "source": [
    "data['Price range'] = data['Price range'].astype(str)"
   ]
  },
  {
   "cell_type": "code",
   "execution_count": 17,
   "id": "3fc42045",
   "metadata": {
    "execution": {
     "iopub.execute_input": "2022-10-19T09:33:44.728049Z",
     "iopub.status.busy": "2022-10-19T09:33:44.727683Z",
     "iopub.status.idle": "2022-10-19T09:33:44.741351Z",
     "shell.execute_reply": "2022-10-19T09:33:44.740287Z"
    },
    "papermill": {
     "duration": 0.025868,
     "end_time": "2022-10-19T09:33:44.743755",
     "exception": false,
     "start_time": "2022-10-19T09:33:44.717887",
     "status": "completed"
    },
    "tags": []
   },
   "outputs": [
    {
     "data": {
      "text/plain": [
       "Restaurant Name         0\n",
       "Country                 0\n",
       "City                    0\n",
       "Currency                0\n",
       "Price range             0\n",
       "Cuisines                9\n",
       "Has Table booking       0\n",
       "Has Online delivery     0\n",
       "Is delivering now       0\n",
       "Switch to order menu    0\n",
       "Aggregate rating        0\n",
       "Rating color            0\n",
       "Rating text             0\n",
       "Votes                   0\n",
       "dtype: int64"
      ]
     },
     "execution_count": 17,
     "metadata": {},
     "output_type": "execute_result"
    }
   ],
   "source": [
    "data.isnull().sum()"
   ]
  },
  {
   "cell_type": "markdown",
   "id": "b776b5a8",
   "metadata": {
    "papermill": {
     "duration": 0.00803,
     "end_time": "2022-10-19T09:33:44.760440",
     "exception": false,
     "start_time": "2022-10-19T09:33:44.752410",
     "status": "completed"
    },
    "tags": []
   },
   "source": [
    "# <font color = red>Observation:</font>\n",
    "- No null values present in the data. Since the data is very clean, lets begin analyzing the columns\n"
   ]
  },
  {
   "cell_type": "code",
   "execution_count": 18,
   "id": "31b88194",
   "metadata": {
    "execution": {
     "iopub.execute_input": "2022-10-19T09:33:44.779211Z",
     "iopub.status.busy": "2022-10-19T09:33:44.778471Z",
     "iopub.status.idle": "2022-10-19T09:33:44.789073Z",
     "shell.execute_reply": "2022-10-19T09:33:44.787094Z"
    },
    "papermill": {
     "duration": 0.022765,
     "end_time": "2022-10-19T09:33:44.791666",
     "exception": false,
     "start_time": "2022-10-19T09:33:44.768901",
     "status": "completed"
    },
    "tags": []
   },
   "outputs": [
    {
     "name": "stdout",
     "output_type": "stream",
     "text": [
      "\n",
      "Total Number of Columns in DataFrame:  14\n",
      "\n",
      "---------------------------------------------------------------------------------------------------------------------------------------\n",
      "Categorical Columns in DataFrame:  ['Restaurant Name', 'Country', 'City', 'Currency', 'Price range', 'Cuisines', 'Has Table booking', 'Has Online delivery', 'Is delivering now', 'Switch to order menu', 'Rating color', 'Rating text']\n",
      "\n",
      "Number of Categorical Columns in DataFrame:  12\n",
      "\n",
      "---------------------------------------------------------------------------------------------------------------------------------------\n",
      "\n",
      "Numerical Columns in DataFrame:  ['Aggregate rating', 'Votes']\n",
      "\n",
      "Number of Numerical Columns in DataFrame:  2\n"
     ]
    }
   ],
   "source": [
    "cat_cols = []\n",
    "num_cols = []\n",
    "\n",
    "for col in list(data.columns):\n",
    "    if data[col].dtype == 'object':\n",
    "        cat_cols.append(col)\n",
    "    else:\n",
    "        num_cols.append(col)\n",
    "print()        \n",
    "print('Total Number of Columns in DataFrame: ',len(data.columns))\n",
    "print()\n",
    "print('---' * 45)\n",
    "print('Categorical Columns in DataFrame: ', cat_cols)\n",
    "print()\n",
    "print('Number of Categorical Columns in DataFrame: ', len(cat_cols))\n",
    "print()\n",
    "print('---' * 45)\n",
    "print()\n",
    "print('Numerical Columns in DataFrame: ',num_cols)\n",
    "print()\n",
    "print('Number of Numerical Columns in DataFrame: ',len(num_cols))"
   ]
  },
  {
   "cell_type": "markdown",
   "id": "85cd83c4",
   "metadata": {
    "execution": {
     "iopub.execute_input": "2022-10-19T07:18:25.558219Z",
     "iopub.status.busy": "2022-10-19T07:18:25.557767Z",
     "iopub.status.idle": "2022-10-19T07:18:25.562572Z",
     "shell.execute_reply": "2022-10-19T07:18:25.561717Z",
     "shell.execute_reply.started": "2022-10-19T07:18:25.558183Z"
    },
    "papermill": {
     "duration": 0.008112,
     "end_time": "2022-10-19T09:33:44.808367",
     "exception": false,
     "start_time": "2022-10-19T09:33:44.800255",
     "status": "completed"
    },
    "tags": []
   },
   "source": [
    "# <font color = red>Analyzing Categorical columns</font>"
   ]
  },
  {
   "cell_type": "code",
   "execution_count": 19,
   "id": "8a1aedad",
   "metadata": {
    "execution": {
     "iopub.execute_input": "2022-10-19T09:33:44.828303Z",
     "iopub.status.busy": "2022-10-19T09:33:44.827866Z",
     "iopub.status.idle": "2022-10-19T09:33:44.883144Z",
     "shell.execute_reply": "2022-10-19T09:33:44.882352Z"
    },
    "papermill": {
     "duration": 0.067972,
     "end_time": "2022-10-19T09:33:44.885379",
     "exception": false,
     "start_time": "2022-10-19T09:33:44.817407",
     "status": "completed"
    },
    "tags": []
   },
   "outputs": [
    {
     "name": "stdout",
     "output_type": "stream",
     "text": [
      "Value Counts for Restaurant Name column:\n",
      "Cafe Coffee Day             83\n",
      "Domino's Pizza              79\n",
      "Subway                      63\n",
      "Green Chick Chop            51\n",
      "McDonald's                  48\n",
      "                            ..\n",
      "Odeon Social                 1\n",
      "Johnny Rockets               1\n",
      "House of Commons             1\n",
      "HotMess                      1\n",
      "Walter's Coffee Roastery     1\n",
      "Name: Restaurant Name, Length: 7446, dtype: int64\n",
      "\n",
      "............................................................\n",
      "Value Counts for Restaurant Name column in percentage:\n",
      "Cafe Coffee Day             0.869019\n",
      "Domino's Pizza              0.827139\n",
      "Subway                      0.659617\n",
      "Green Chick Chop            0.533975\n",
      "McDonald's                  0.502565\n",
      "                              ...   \n",
      "Odeon Social                0.010470\n",
      "Johnny Rockets              0.010470\n",
      "House of Commons            0.010470\n",
      "HotMess                     0.010470\n",
      "Walter's Coffee Roastery    0.010470\n",
      "Name: Restaurant Name, Length: 7446, dtype: float64\n",
      "\n",
      "............................................................\n",
      "\n",
      "Mode of Restaurant Name column: Cafe Coffee Day\n",
      "\n",
      "XXXXXXXXXXXXXXXXXXXXXXXXXXXXXXXXXXXXXXXXXXXXXXXXXXXXXXXXXXXX\n",
      "\n",
      "Value Counts for Country column:\n",
      "India             8652\n",
      "United States      434\n",
      "United Kingdom      80\n",
      "Brazil              60\n",
      "UAE                 60\n",
      "South Africa        60\n",
      "New Zealand         40\n",
      "Turkey              34\n",
      "Australia           24\n",
      "Phillipines         22\n",
      "Indonesia           21\n",
      "Singapore           20\n",
      "Qatar               20\n",
      "Sri Lanka           20\n",
      "Canada               4\n",
      "Name: Country, dtype: int64\n",
      "\n",
      "............................................................\n",
      "Value Counts for Country column in percentage:\n",
      "India             90.587373\n",
      "United States      4.544027\n",
      "United Kingdom     0.837609\n",
      "Brazil             0.628206\n",
      "UAE                0.628206\n",
      "South Africa       0.628206\n",
      "New Zealand        0.418804\n",
      "Turkey             0.355984\n",
      "Australia          0.251283\n",
      "Phillipines        0.230342\n",
      "Indonesia          0.219872\n",
      "Singapore          0.209402\n",
      "Qatar              0.209402\n",
      "Sri Lanka          0.209402\n",
      "Canada             0.041880\n",
      "Name: Country, dtype: float64\n",
      "\n",
      "............................................................\n",
      "\n",
      "Mode of Country column: India\n",
      "\n",
      "XXXXXXXXXXXXXXXXXXXXXXXXXXXXXXXXXXXXXXXXXXXXXXXXXXXXXXXXXXXX\n",
      "\n",
      "Value Counts for City column:\n",
      "New Delhi           5473\n",
      "Gurgaon             1118\n",
      "Noida               1080\n",
      "Faridabad            251\n",
      "Ghaziabad             25\n",
      "                    ... \n",
      "Panchkula              1\n",
      "Mc Millan              1\n",
      "Mayfield               1\n",
      "Macedon                1\n",
      "Vineland Station       1\n",
      "Name: City, Length: 141, dtype: int64\n",
      "\n",
      "............................................................\n",
      "Value Counts for City column in percentage:\n",
      "New Delhi           57.302900\n",
      "Gurgaon             11.705581\n",
      "Noida               11.307716\n",
      "Faridabad            2.627997\n",
      "Ghaziabad            0.261753\n",
      "                      ...    \n",
      "Panchkula            0.010470\n",
      "Mc Millan            0.010470\n",
      "Mayfield             0.010470\n",
      "Macedon              0.010470\n",
      "Vineland Station     0.010470\n",
      "Name: City, Length: 141, dtype: float64\n",
      "\n",
      "............................................................\n",
      "\n",
      "Mode of City column: New Delhi\n",
      "\n",
      "XXXXXXXXXXXXXXXXXXXXXXXXXXXXXXXXXXXXXXXXXXXXXXXXXXXXXXXXXXXX\n",
      "\n",
      "Value Counts for Currency column:\n",
      "Indian Rupees(Rs.)        8652\n",
      "Dollar($)                  482\n",
      "Pounds(£)                  80\n",
      "Brazilian Real(R$)          60\n",
      "Emirati Diram(AED)          60\n",
      "Rand(R)                     60\n",
      "NewZealand($)               40\n",
      "Turkish Lira(TL)            34\n",
      "Botswana Pula(P)            22\n",
      "Indonesian Rupiah(IDR)      21\n",
      "Qatari Rial(QR)             20\n",
      "Sri Lankan Rupee(LKR)       20\n",
      "Name: Currency, dtype: int64\n",
      "\n",
      "............................................................\n",
      "Value Counts for Currency column in percentage:\n",
      "Indian Rupees(Rs.)        90.587373\n",
      "Dollar($)                  5.046592\n",
      "Pounds(£)                 0.837609\n",
      "Brazilian Real(R$)         0.628206\n",
      "Emirati Diram(AED)         0.628206\n",
      "Rand(R)                    0.628206\n",
      "NewZealand($)              0.418804\n",
      "Turkish Lira(TL)           0.355984\n",
      "Botswana Pula(P)           0.230342\n",
      "Indonesian Rupiah(IDR)     0.219872\n",
      "Qatari Rial(QR)            0.209402\n",
      "Sri Lankan Rupee(LKR)      0.209402\n",
      "Name: Currency, dtype: float64\n",
      "\n",
      "............................................................\n",
      "\n",
      "Mode of Currency column: Indian Rupees(Rs.)\n",
      "\n",
      "XXXXXXXXXXXXXXXXXXXXXXXXXXXXXXXXXXXXXXXXXXXXXXXXXXXXXXXXXXXX\n",
      "\n",
      "Value Counts for Price range column:\n",
      "1    4444\n",
      "2    3113\n",
      "3    1408\n",
      "4     586\n",
      "Name: Price range, dtype: int64\n",
      "\n",
      "............................................................\n",
      "Value Counts for Price range column in percentage:\n",
      "1    46.529159\n",
      "2    32.593446\n",
      "3    14.741912\n",
      "4     6.135483\n",
      "Name: Price range, dtype: float64\n",
      "\n",
      "............................................................\n",
      "\n",
      "Mode of Price range column: 1\n",
      "\n",
      "XXXXXXXXXXXXXXXXXXXXXXXXXXXXXXXXXXXXXXXXXXXXXXXXXXXXXXXXXXXX\n",
      "\n",
      "Value Counts for Cuisines column:\n",
      "North Indian                                             936\n",
      "North Indian, Chinese                                    511\n",
      "Chinese                                                  354\n",
      "Fast Food                                                354\n",
      "North Indian, Mughlai                                    334\n",
      "                                                        ... \n",
      "Bengali, Fast Food                                         1\n",
      "North Indian, Rajasthani, Asian                            1\n",
      "Chinese, Thai, Malaysian, Indonesian                       1\n",
      "Bakery, Desserts, North Indian, Bengali, South Indian      1\n",
      "Italian, World Cuisine                                     1\n",
      "Name: Cuisines, Length: 1825, dtype: int64\n",
      "\n",
      "............................................................\n",
      "Value Counts for Cuisines column in percentage:\n",
      "North Indian                                             9.809264\n",
      "North Indian, Chinese                                    5.355271\n",
      "Chinese                                                  3.709914\n",
      "Fast Food                                                3.709914\n",
      "North Indian, Mughlai                                    3.500314\n",
      "                                                           ...   \n",
      "Bengali, Fast Food                                       0.010480\n",
      "North Indian, Rajasthani, Asian                          0.010480\n",
      "Chinese, Thai, Malaysian, Indonesian                     0.010480\n",
      "Bakery, Desserts, North Indian, Bengali, South Indian    0.010480\n",
      "Italian, World Cuisine                                   0.010480\n",
      "Name: Cuisines, Length: 1825, dtype: float64\n",
      "\n",
      "............................................................\n",
      "\n",
      "Mode of Cuisines column: North Indian\n",
      "\n",
      "XXXXXXXXXXXXXXXXXXXXXXXXXXXXXXXXXXXXXXXXXXXXXXXXXXXXXXXXXXXX\n",
      "\n",
      "Value Counts for Has Table booking column:\n",
      "No     8393\n",
      "Yes    1158\n",
      "Name: Has Table booking, dtype: int64\n",
      "\n",
      "............................................................\n",
      "Value Counts for Has Table booking column in percentage:\n",
      "No     87.875615\n",
      "Yes    12.124385\n",
      "Name: Has Table booking, dtype: float64\n",
      "\n",
      "............................................................\n",
      "\n",
      "Mode of Has Table booking column: No\n",
      "\n",
      "XXXXXXXXXXXXXXXXXXXXXXXXXXXXXXXXXXXXXXXXXXXXXXXXXXXXXXXXXXXX\n",
      "\n",
      "Value Counts for Has Online delivery column:\n",
      "No     7100\n",
      "Yes    2451\n",
      "Name: Has Online delivery, dtype: int64\n",
      "\n",
      "............................................................\n",
      "Value Counts for Has Online delivery column in percentage:\n",
      "No     74.337766\n",
      "Yes    25.662234\n",
      "Name: Has Online delivery, dtype: float64\n",
      "\n",
      "............................................................\n",
      "\n",
      "Mode of Has Online delivery column: No\n",
      "\n",
      "XXXXXXXXXXXXXXXXXXXXXXXXXXXXXXXXXXXXXXXXXXXXXXXXXXXXXXXXXXXX\n",
      "\n",
      "Value Counts for Is delivering now column:\n",
      "No     9517\n",
      "Yes      34\n",
      "Name: Is delivering now, dtype: int64\n",
      "\n",
      "............................................................\n",
      "Value Counts for Is delivering now column in percentage:\n",
      "No     99.644016\n",
      "Yes     0.355984\n",
      "Name: Is delivering now, dtype: float64\n",
      "\n",
      "............................................................\n",
      "\n",
      "Mode of Is delivering now column: No\n",
      "\n",
      "XXXXXXXXXXXXXXXXXXXXXXXXXXXXXXXXXXXXXXXXXXXXXXXXXXXXXXXXXXXX\n",
      "\n",
      "Value Counts for Switch to order menu column:\n",
      "No    9551\n",
      "Name: Switch to order menu, dtype: int64\n",
      "\n",
      "............................................................\n",
      "Value Counts for Switch to order menu column in percentage:\n",
      "No    100.0\n",
      "Name: Switch to order menu, dtype: float64\n",
      "\n",
      "............................................................\n",
      "\n",
      "Mode of Switch to order menu column: No\n",
      "\n",
      "XXXXXXXXXXXXXXXXXXXXXXXXXXXXXXXXXXXXXXXXXXXXXXXXXXXXXXXXXXXX\n",
      "\n",
      "Value Counts for Rating color column:\n",
      "Orange        3737\n",
      "White         2148\n",
      "Yellow        2100\n",
      "Green         1079\n",
      "Dark Green     301\n",
      "Red            186\n",
      "Name: Rating color, dtype: int64\n",
      "\n",
      "............................................................\n",
      "Value Counts for Rating color column in percentage:\n",
      "Orange        39.126793\n",
      "White         22.489792\n",
      "Yellow        21.987226\n",
      "Green         11.297246\n",
      "Dark Green     3.151502\n",
      "Red            1.947440\n",
      "Name: Rating color, dtype: float64\n",
      "\n",
      "............................................................\n",
      "\n",
      "Mode of Rating color column: Orange\n",
      "\n",
      "XXXXXXXXXXXXXXXXXXXXXXXXXXXXXXXXXXXXXXXXXXXXXXXXXXXXXXXXXXXX\n",
      "\n",
      "Value Counts for Rating text column:\n",
      "Average      3737\n",
      "Not rated    2148\n",
      "Good         2100\n",
      "Very Good    1079\n",
      "Excellent     301\n",
      "Poor          186\n",
      "Name: Rating text, dtype: int64\n",
      "\n",
      "............................................................\n",
      "Value Counts for Rating text column in percentage:\n",
      "Average      39.126793\n",
      "Not rated    22.489792\n",
      "Good         21.987226\n",
      "Very Good    11.297246\n",
      "Excellent     3.151502\n",
      "Poor          1.947440\n",
      "Name: Rating text, dtype: float64\n",
      "\n",
      "............................................................\n",
      "\n",
      "Mode of Rating text column: Average\n",
      "\n",
      "XXXXXXXXXXXXXXXXXXXXXXXXXXXXXXXXXXXXXXXXXXXXXXXXXXXXXXXXXXXX\n",
      "\n"
     ]
    }
   ],
   "source": [
    "for i in cat_cols:\n",
    "    print('Value Counts for {} column:'.format(i))\n",
    "    print(data[i].value_counts())\n",
    "    print()\n",
    "    print('.' * 60)\n",
    "    print('Value Counts for {} column in percentage:'.format(i))\n",
    "    print(data[i].value_counts(normalize=True)*100)\n",
    "    print()\n",
    "    print('.' * 60)\n",
    "    print()\n",
    "    print('Mode of {} column:'.format(i),data[i].mode()[0])\n",
    "    print()\n",
    "    print('X'*60)\n",
    "    print()"
   ]
  },
  {
   "cell_type": "markdown",
   "id": "2aa00c7e",
   "metadata": {
    "papermill": {
     "duration": 0.008973,
     "end_time": "2022-10-19T09:33:44.903452",
     "exception": false,
     "start_time": "2022-10-19T09:33:44.894479",
     "status": "completed"
    },
    "tags": []
   },
   "source": [
    "# <font color = red> Obervations: </font>\n",
    "- 'Cafe Coffee Day' is the most listed in `Restraunts` column with 0.8% of total restauraunts\n",
    "- 90% of the restaurants in the data are from India \n",
    "- 58% of the restaurants in the data are in Delhi\n",
    "- 9.8% of the restaurants serve North Indian cusine\n",
    "- 40% of the restaurants have Average rating\n",
    "- 46% of the restaurants have a price range of  '1'."
   ]
  },
  {
   "cell_type": "markdown",
   "id": "5dfe5dff",
   "metadata": {
    "execution": {
     "iopub.execute_input": "2022-10-19T07:28:37.484310Z",
     "iopub.status.busy": "2022-10-19T07:28:37.483847Z",
     "iopub.status.idle": "2022-10-19T07:28:37.489193Z",
     "shell.execute_reply": "2022-10-19T07:28:37.487932Z",
     "shell.execute_reply.started": "2022-10-19T07:28:37.484274Z"
    },
    "papermill": {
     "duration": 0.008562,
     "end_time": "2022-10-19T09:33:44.920838",
     "exception": false,
     "start_time": "2022-10-19T09:33:44.912276",
     "status": "completed"
    },
    "tags": []
   },
   "source": [
    "# <font color = red>Analyzing Numerical columns</font>"
   ]
  },
  {
   "cell_type": "code",
   "execution_count": 20,
   "id": "87f679b3",
   "metadata": {
    "execution": {
     "iopub.execute_input": "2022-10-19T09:33:44.941338Z",
     "iopub.status.busy": "2022-10-19T09:33:44.939766Z",
     "iopub.status.idle": "2022-10-19T09:33:45.176697Z",
     "shell.execute_reply": "2022-10-19T09:33:45.175791Z"
    },
    "papermill": {
     "duration": 0.249314,
     "end_time": "2022-10-19T09:33:45.179018",
     "exception": false,
     "start_time": "2022-10-19T09:33:44.929704",
     "status": "completed"
    },
    "tags": []
   },
   "outputs": [
    {
     "name": "stdout",
     "output_type": "stream",
     "text": [
      "\n",
      "Statistical information for Aggregate rating column: \n",
      "\n",
      "count    9551.000000\n",
      "mean        2.666370\n",
      "std         1.516378\n",
      "min         0.000000\n",
      "25%         2.500000\n",
      "50%         3.200000\n",
      "75%         3.700000\n",
      "max         4.900000\n",
      "Name: Aggregate rating, dtype: float64\n",
      "\n",
      "............................................................\n"
     ]
    },
    {
     "data": {
      "image/png": "[encoded data removed]",
      "text/plain": [
       "<Figure size 216x360 with 1 Axes>"
      ]
     },
     "metadata": {},
     "output_type": "display_data"
    },
    {
     "name": "stdout",
     "output_type": "stream",
     "text": [
      "\n",
      "XXXXXXXXXXXXXXXXXXXXXXXXXXXXXXXXXXXXXXXXXXXXXXXXXXXXXXXXXXXX\n",
      "\n",
      "Statistical information for Votes column: \n",
      "\n",
      "count     9551.000000\n",
      "mean       156.909748\n",
      "std        430.169145\n",
      "min          0.000000\n",
      "25%          5.000000\n",
      "50%         31.000000\n",
      "75%        131.000000\n",
      "max      10934.000000\n",
      "Name: Votes, dtype: float64\n",
      "\n",
      "............................................................\n"
     ]
    },
    {
     "data": {
      "image/png": "[encoded data removed]",
      "text/plain": [
       "<Figure size 216x360 with 1 Axes>"
      ]
     },
     "metadata": {},
     "output_type": "display_data"
    },
    {
     "name": "stdout",
     "output_type": "stream",
     "text": [
      "\n",
      "XXXXXXXXXXXXXXXXXXXXXXXXXXXXXXXXXXXXXXXXXXXXXXXXXXXXXXXXXXXX\n"
     ]
    }
   ],
   "source": [
    "for i in num_cols:\n",
    "    print()\n",
    "    print('Statistical information for {} column: '.format(i))\n",
    "    print()\n",
    "    print(data[i].describe())\n",
    "    print()\n",
    "    print('.' * 60)\n",
    "    plt.figure(figsize=(3,5))\n",
    "    sns.boxplot(y =data[i])\n",
    "    plt.show()\n",
    "    print()\n",
    "    print('X'*60)"
   ]
  },
  {
   "cell_type": "code",
   "execution_count": 21,
   "id": "2d7e6217",
   "metadata": {
    "execution": {
     "iopub.execute_input": "2022-10-19T09:33:45.202473Z",
     "iopub.status.busy": "2022-10-19T09:33:45.200791Z",
     "iopub.status.idle": "2022-10-19T09:33:45.211866Z",
     "shell.execute_reply": "2022-10-19T09:33:45.210449Z"
    },
    "papermill": {
     "duration": 0.025238,
     "end_time": "2022-10-19T09:33:45.214576",
     "exception": false,
     "start_time": "2022-10-19T09:33:45.189338",
     "status": "completed"
    },
    "tags": []
   },
   "outputs": [
    {
     "data": {
      "text/plain": [
       "1882.5"
      ]
     },
     "execution_count": 21,
     "metadata": {},
     "output_type": "execute_result"
    }
   ],
   "source": [
    "data['Votes'].quantile(0.99)"
   ]
  },
  {
   "cell_type": "markdown",
   "id": "e45d6d23",
   "metadata": {
    "execution": {
     "iopub.execute_input": "2022-10-19T09:01:40.582101Z",
     "iopub.status.busy": "2022-10-19T09:01:40.581370Z",
     "iopub.status.idle": "2022-10-19T09:01:40.593000Z",
     "shell.execute_reply": "2022-10-19T09:01:40.591627Z",
     "shell.execute_reply.started": "2022-10-19T09:01:40.582052Z"
    },
    "papermill": {
     "duration": 0.010569,
     "end_time": "2022-10-19T09:33:45.234944",
     "exception": false,
     "start_time": "2022-10-19T09:33:45.224375",
     "status": "completed"
    },
    "tags": []
   },
   "source": [
    "# <font color = red>Observations</font>\n",
    "- 99% restaurants have number of voters less than 10,000\n",
    "-  Meian aggregate rating is 3.2"
   ]
  },
  {
   "cell_type": "markdown",
   "id": "a1d4b4e9",
   "metadata": {
    "papermill": {
     "duration": 0.009553,
     "end_time": "2022-10-19T09:33:45.256128",
     "exception": false,
     "start_time": "2022-10-19T09:33:45.246575",
     "status": "completed"
    },
    "tags": []
   },
   "source": [
    "# <font color = red>Bi-variate Analysis</font>"
   ]
  },
  {
   "cell_type": "code",
   "execution_count": 22,
   "id": "f71b38f6",
   "metadata": {
    "execution": {
     "iopub.execute_input": "2022-10-19T09:33:45.279454Z",
     "iopub.status.busy": "2022-10-19T09:33:45.279034Z",
     "iopub.status.idle": "2022-10-19T09:33:45.283703Z",
     "shell.execute_reply": "2022-10-19T09:33:45.282338Z"
    },
    "papermill": {
     "duration": 0.018442,
     "end_time": "2022-10-19T09:33:45.286275",
     "exception": false,
     "start_time": "2022-10-19T09:33:45.267833",
     "status": "completed"
    },
    "tags": []
   },
   "outputs": [],
   "source": [
    "# Categorical-Numerical"
   ]
  },
  {
   "cell_type": "code",
   "execution_count": null,
   "id": "c27f53f2",
   "metadata": {
    "papermill": {
     "duration": 0.009306,
     "end_time": "2022-10-19T09:33:45.305669",
     "exception": false,
     "start_time": "2022-10-19T09:33:45.296363",
     "status": "completed"
    },
    "tags": []
   },
   "outputs": [],
   "source": []
  },
  {
   "cell_type": "code",
   "execution_count": null,
   "id": "e0530b3b",
   "metadata": {
    "papermill": {
     "duration": 0.010746,
     "end_time": "2022-10-19T09:33:45.326142",
     "exception": false,
     "start_time": "2022-10-19T09:33:45.315396",
     "status": "completed"
    },
    "tags": []
   },
   "outputs": [],
   "source": []
  },
  {
   "cell_type": "code",
   "execution_count": null,
   "id": "a339cd2c",
   "metadata": {
    "papermill": {
     "duration": 0.009255,
     "end_time": "2022-10-19T09:33:45.346840",
     "exception": false,
     "start_time": "2022-10-19T09:33:45.337585",
     "status": "completed"
    },
    "tags": []
   },
   "outputs": [],
   "source": []
  },
  {
   "cell_type": "code",
   "execution_count": null,
   "id": "6caec1d0",
   "metadata": {
    "papermill": {
     "duration": 0.0093,
     "end_time": "2022-10-19T09:33:45.365778",
     "exception": false,
     "start_time": "2022-10-19T09:33:45.356478",
     "status": "completed"
    },
    "tags": []
   },
   "outputs": [],
   "source": []
  },
  {
   "cell_type": "code",
   "execution_count": null,
   "id": "9738b192",
   "metadata": {
    "papermill": {
     "duration": 0.009155,
     "end_time": "2022-10-19T09:33:45.384578",
     "exception": false,
     "start_time": "2022-10-19T09:33:45.375423",
     "status": "completed"
    },
    "tags": []
   },
   "outputs": [],
   "source": []
  }
 ],
 "metadata": {
  "kernelspec": {
   "display_name": "Python 3",
   "language": "python",
   "name": "python3"
  },
  "language_info": {
   "codemirror_mode": {
    "name": "ipython",
    "version": 3
   },
   "file_extension": ".py",
   "mimetype": "text/x-python",
   "name": "python",
   "nbconvert_exporter": "python",
   "pygments_lexer": "ipython3",
   "version": "3.7.12"
  },
  "papermill": {
   "default_parameters": {},
   "duration": 12.341982,
   "end_time": "2022-10-19T09:33:46.216739",
   "environment_variables": {},
   "exception": null,
   "input_path": "__notebook__.ipynb",
   "output_path": "__notebook__.ipynb",
   "parameters": {},
   "start_time": "2022-10-19T09:33:33.874757",
   "version": "2.3.4"
  }
 },
 "nbformat": 4,
 "nbformat_minor": 5
}
